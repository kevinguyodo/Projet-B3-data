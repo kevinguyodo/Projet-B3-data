{
 "cells": [
  {
   "cell_type": "markdown",
   "id": "f4365c91",
   "metadata": {},
   "source": [
    "## Get the dataset"
   ]
  },
  {
   "cell_type": "markdown",
   "id": "4c7eb78d",
   "metadata": {},
   "source": [
    "<div class=\"alert alert-block alert-info\">\n",
    "We get our data on Kaggle, here are the links to the 2 CSV files : https://www.kaggle.com/datasets/thedevastator/drug-performance-evaluation?select=Drug.csv and https://www.kaggle.com/datasets/thedevastator/drug-performance-evaluation?select=Drug_clean.csv.\n",
    "The datasets are scraped from https://www.webmd.com/ which contains a lot of information about health. \n",
    "    \n",
    "Some information about the CSV files.\n",
    "\n",
    "\n",
    "Drug.csv :\n",
    "- Condition : The medical condition associated with the drug. (String)\n",
    "- Drug : The name of the drug. (String)\n",
    "- Indication : The purpose of the drug. (String)\n",
    "- Type : The type of drug (generic or brand). (String)\n",
    "    - RX : medical prescription\n",
    "    - OTC : a medicine that can be bought without a prescription\n",
    "- Reviews : The number of reviews associated with the drug. (Integer) (object in csv)\n",
    "- Effective : The effectiveness of the drug based on customer reviews. (Integer)\n",
    "- EaseOfUse : The ease of use of the drug based on customer reviews. (Integer)\n",
    "- Satisfaction : The satisfaction level of the drug based on customer reviews. (Integer)\n",
    "- Information : Other relevant information about the drug. (String)\n",
    "\n",
    "\n",
    "Drug_clean.csv :\n",
    "- Condition : The medical condition associated with the drug. (String)\n",
    "- Drug : The name of the drug. (String)\n",
    "- Indication : The purpose of the drug. (String)\n",
    "- Type : The type of drug (generic or brand). (String)\n",
    "- Reviews : The number of reviews associated with the drug. (Integer)\n",
    "- Effective : The effectiveness of the drug based on customer reviews. (Integer)\n",
    "- EaseOfDrug : The ease of use of the drug based on customer reviews. (Integer)\n",
    "- Satisfaction : The satisfaction level of the drug based on customer reviews. (Integer)\n",
    "- Form : The form of the drug (e.g. tablet, capsule, etc.). (String)\n",
    "- Price : The average price of the drug. (Float)\n",
    "</div>"
   ]
  },
  {
   "cell_type": "markdown",
   "id": "abf4690f",
   "metadata": {},
   "source": [
    "<div class=\"alert alert-block alert-warning\">\n",
    "After reading these datasets we think that it could be interesting to understand on what the satisfaction is based. \n",
    "</div>"
   ]
  },
  {
   "cell_type": "markdown",
   "id": "1c8efca9",
   "metadata": {},
   "source": [
    "# 📚Import librairies"
   ]
  },
  {
   "cell_type": "code",
   "execution_count": 58,
   "id": "6081d4a2",
   "metadata": {},
   "outputs": [
    {
     "ename": "ImportError",
     "evalue": "DLL load failed while importing lib: La procédure spécifiée est introuvable.",
     "output_type": "error",
     "traceback": [
      "\u001b[1;31m---------------------------------------------------------------------------\u001b[0m",
      "\u001b[1;31mImportError\u001b[0m                               Traceback (most recent call last)",
      "Cell \u001b[1;32mIn[58], line 9\u001b[0m\n\u001b[0;32m      7\u001b[0m \u001b[38;5;28;01mimport\u001b[39;00m \u001b[38;5;21;01mmath\u001b[39;00m\n\u001b[0;32m      8\u001b[0m \u001b[38;5;28;01mfrom\u001b[39;00m \u001b[38;5;21;01mcollections\u001b[39;00m \u001b[38;5;28;01mimport\u001b[39;00m Counter\n\u001b[1;32m----> 9\u001b[0m \u001b[38;5;28;01mimport\u001b[39;00m \u001b[38;5;21;01mstreamlit\u001b[39;00m \u001b[38;5;28;01mas\u001b[39;00m \u001b[38;5;21;01mst\u001b[39;00m\n\u001b[0;32m     10\u001b[0m \u001b[38;5;28;01mimport\u001b[39;00m \u001b[38;5;21;01maltair\u001b[39;00m \u001b[38;5;28;01mas\u001b[39;00m \u001b[38;5;21;01malt\u001b[39;00m\n\u001b[0;32m     11\u001b[0m \u001b[38;5;28;01mimport\u001b[39;00m \u001b[38;5;21;01mplotly\u001b[39;00m\u001b[38;5;21;01m.\u001b[39;00m\u001b[38;5;21;01mexpress\u001b[39;00m \u001b[38;5;28;01mas\u001b[39;00m \u001b[38;5;21;01mpx\u001b[39;00m\n",
      "File \u001b[1;32m~\\anaconda3\\lib\\site-packages\\streamlit\\__init__.py:55\u001b[0m\n\u001b[0;32m     52\u001b[0m \u001b[38;5;66;03m# Give the package a version.\u001b[39;00m\n\u001b[0;32m     53\u001b[0m __version__ \u001b[38;5;241m=\u001b[39m _STREAMLIT_VERSION_STRING\n\u001b[1;32m---> 55\u001b[0m \u001b[38;5;28;01mfrom\u001b[39;00m \u001b[38;5;21;01mstreamlit\u001b[39;00m\u001b[38;5;21;01m.\u001b[39;00m\u001b[38;5;21;01mdelta_generator\u001b[39;00m \u001b[38;5;28;01mimport\u001b[39;00m DeltaGenerator \u001b[38;5;28;01mas\u001b[39;00m _DeltaGenerator\n\u001b[0;32m     56\u001b[0m \u001b[38;5;28;01mfrom\u001b[39;00m \u001b[38;5;21;01mstreamlit\u001b[39;00m\u001b[38;5;21;01m.\u001b[39;00m\u001b[38;5;21;01mproto\u001b[39;00m\u001b[38;5;21;01m.\u001b[39;00m\u001b[38;5;21;01mRootContainer_pb2\u001b[39;00m \u001b[38;5;28;01mimport\u001b[39;00m RootContainer \u001b[38;5;28;01mas\u001b[39;00m _RootContainer\n\u001b[0;32m     57\u001b[0m \u001b[38;5;28;01mfrom\u001b[39;00m \u001b[38;5;21;01mstreamlit\u001b[39;00m\u001b[38;5;21;01m.\u001b[39;00m\u001b[38;5;21;01mruntime\u001b[39;00m\u001b[38;5;21;01m.\u001b[39;00m\u001b[38;5;21;01mcaching\u001b[39;00m \u001b[38;5;28;01mimport\u001b[39;00m (\n\u001b[0;32m     58\u001b[0m     singleton \u001b[38;5;28;01mas\u001b[39;00m _singleton,\n\u001b[0;32m     59\u001b[0m     memo \u001b[38;5;28;01mas\u001b[39;00m _memo,\n\u001b[0;32m     60\u001b[0m )\n",
      "File \u001b[1;32m~\\anaconda3\\lib\\site-packages\\streamlit\\delta_generator.py:38\u001b[0m\n\u001b[0;32m     35\u001b[0m \u001b[38;5;28;01mimport\u001b[39;00m \u001b[38;5;21;01mclick\u001b[39;00m\n\u001b[0;32m     36\u001b[0m \u001b[38;5;28;01mfrom\u001b[39;00m \u001b[38;5;21;01mtyping_extensions\u001b[39;00m \u001b[38;5;28;01mimport\u001b[39;00m Final, Literal\n\u001b[1;32m---> 38\u001b[0m \u001b[38;5;28;01mfrom\u001b[39;00m \u001b[38;5;21;01mstreamlit\u001b[39;00m \u001b[38;5;28;01mimport\u001b[39;00m config, cursor, env_util, logger, runtime, type_util, util\n\u001b[0;32m     39\u001b[0m \u001b[38;5;28;01mfrom\u001b[39;00m \u001b[38;5;21;01mstreamlit\u001b[39;00m\u001b[38;5;21;01m.\u001b[39;00m\u001b[38;5;21;01mcursor\u001b[39;00m \u001b[38;5;28;01mimport\u001b[39;00m Cursor\n\u001b[0;32m     40\u001b[0m \u001b[38;5;28;01mfrom\u001b[39;00m \u001b[38;5;21;01mstreamlit\u001b[39;00m\u001b[38;5;21;01m.\u001b[39;00m\u001b[38;5;21;01melements\u001b[39;00m\u001b[38;5;21;01m.\u001b[39;00m\u001b[38;5;21;01malert\u001b[39;00m \u001b[38;5;28;01mimport\u001b[39;00m AlertMixin\n",
      "File \u001b[1;32m~\\anaconda3\\lib\\site-packages\\streamlit\\cursor.py:18\u001b[0m\n\u001b[0;32m     15\u001b[0m \u001b[38;5;28;01mfrom\u001b[39;00m \u001b[38;5;21;01mtyping\u001b[39;00m \u001b[38;5;28;01mimport\u001b[39;00m Any, List, Optional, Tuple\n\u001b[0;32m     17\u001b[0m \u001b[38;5;28;01mfrom\u001b[39;00m \u001b[38;5;21;01mstreamlit\u001b[39;00m \u001b[38;5;28;01mimport\u001b[39;00m util\n\u001b[1;32m---> 18\u001b[0m \u001b[38;5;28;01mfrom\u001b[39;00m \u001b[38;5;21;01mstreamlit\u001b[39;00m\u001b[38;5;21;01m.\u001b[39;00m\u001b[38;5;21;01mruntime\u001b[39;00m\u001b[38;5;21;01m.\u001b[39;00m\u001b[38;5;21;01mscriptrunner\u001b[39;00m \u001b[38;5;28;01mimport\u001b[39;00m get_script_run_ctx\n\u001b[0;32m     21\u001b[0m \u001b[38;5;28;01mdef\u001b[39;00m \u001b[38;5;21mmake_delta_path\u001b[39m(\n\u001b[0;32m     22\u001b[0m     root_container: \u001b[38;5;28mint\u001b[39m, parent_path: Tuple[\u001b[38;5;28mint\u001b[39m, \u001b[38;5;241m.\u001b[39m\u001b[38;5;241m.\u001b[39m\u001b[38;5;241m.\u001b[39m], index: \u001b[38;5;28mint\u001b[39m\n\u001b[0;32m     23\u001b[0m ) \u001b[38;5;241m-\u001b[39m\u001b[38;5;241m>\u001b[39m List[\u001b[38;5;28mint\u001b[39m]:\n\u001b[0;32m     24\u001b[0m     delta_path \u001b[38;5;241m=\u001b[39m [root_container]\n",
      "File \u001b[1;32m~\\anaconda3\\lib\\site-packages\\streamlit\\runtime\\__init__.py:16\u001b[0m\n\u001b[0;32m      1\u001b[0m \u001b[38;5;66;03m# Copyright (c) Streamlit Inc. (2018-2022) Snowflake Inc. (2022)\u001b[39;00m\n\u001b[0;32m      2\u001b[0m \u001b[38;5;66;03m#\u001b[39;00m\n\u001b[0;32m      3\u001b[0m \u001b[38;5;66;03m# Licensed under the Apache License, Version 2.0 (the \"License\");\u001b[39;00m\n\u001b[1;32m   (...)\u001b[0m\n\u001b[0;32m     14\u001b[0m \n\u001b[0;32m     15\u001b[0m \u001b[38;5;66;03m# Explicitly re-export public symbols from runtime.py\u001b[39;00m\n\u001b[1;32m---> 16\u001b[0m \u001b[38;5;28;01mfrom\u001b[39;00m \u001b[38;5;21;01mstreamlit\u001b[39;00m\u001b[38;5;21;01m.\u001b[39;00m\u001b[38;5;21;01mruntime\u001b[39;00m\u001b[38;5;21;01m.\u001b[39;00m\u001b[38;5;21;01mruntime\u001b[39;00m \u001b[38;5;28;01mimport\u001b[39;00m Runtime \u001b[38;5;28;01mas\u001b[39;00m Runtime\n\u001b[0;32m     17\u001b[0m \u001b[38;5;28;01mfrom\u001b[39;00m \u001b[38;5;21;01mstreamlit\u001b[39;00m\u001b[38;5;21;01m.\u001b[39;00m\u001b[38;5;21;01mruntime\u001b[39;00m\u001b[38;5;21;01m.\u001b[39;00m\u001b[38;5;21;01mruntime\u001b[39;00m \u001b[38;5;28;01mimport\u001b[39;00m RuntimeConfig \u001b[38;5;28;01mas\u001b[39;00m RuntimeConfig\n\u001b[0;32m     18\u001b[0m \u001b[38;5;28;01mfrom\u001b[39;00m \u001b[38;5;21;01mstreamlit\u001b[39;00m\u001b[38;5;21;01m.\u001b[39;00m\u001b[38;5;21;01mruntime\u001b[39;00m\u001b[38;5;21;01m.\u001b[39;00m\u001b[38;5;21;01mruntime\u001b[39;00m \u001b[38;5;28;01mimport\u001b[39;00m RuntimeState \u001b[38;5;28;01mas\u001b[39;00m RuntimeState\n",
      "File \u001b[1;32m~\\anaconda3\\lib\\site-packages\\streamlit\\runtime\\runtime.py:28\u001b[0m\n\u001b[0;32m     26\u001b[0m \u001b[38;5;28;01mfrom\u001b[39;00m \u001b[38;5;21;01mstreamlit\u001b[39;00m\u001b[38;5;21;01m.\u001b[39;00m\u001b[38;5;21;01mproto\u001b[39;00m\u001b[38;5;21;01m.\u001b[39;00m\u001b[38;5;21;01mBackMsg_pb2\u001b[39;00m \u001b[38;5;28;01mimport\u001b[39;00m BackMsg\n\u001b[0;32m     27\u001b[0m \u001b[38;5;28;01mfrom\u001b[39;00m \u001b[38;5;21;01mstreamlit\u001b[39;00m\u001b[38;5;21;01m.\u001b[39;00m\u001b[38;5;21;01mproto\u001b[39;00m\u001b[38;5;21;01m.\u001b[39;00m\u001b[38;5;21;01mForwardMsg_pb2\u001b[39;00m \u001b[38;5;28;01mimport\u001b[39;00m ForwardMsg\n\u001b[1;32m---> 28\u001b[0m \u001b[38;5;28;01mfrom\u001b[39;00m \u001b[38;5;21;01mstreamlit\u001b[39;00m\u001b[38;5;21;01m.\u001b[39;00m\u001b[38;5;21;01mruntime\u001b[39;00m\u001b[38;5;21;01m.\u001b[39;00m\u001b[38;5;21;01mapp_session\u001b[39;00m \u001b[38;5;28;01mimport\u001b[39;00m AppSession\n\u001b[0;32m     29\u001b[0m \u001b[38;5;28;01mfrom\u001b[39;00m \u001b[38;5;21;01mstreamlit\u001b[39;00m\u001b[38;5;21;01m.\u001b[39;00m\u001b[38;5;21;01mruntime\u001b[39;00m\u001b[38;5;21;01m.\u001b[39;00m\u001b[38;5;21;01mcaching\u001b[39;00m \u001b[38;5;28;01mimport\u001b[39;00m (\n\u001b[0;32m     30\u001b[0m     get_memo_stats_provider,\n\u001b[0;32m     31\u001b[0m     get_singleton_stats_provider,\n\u001b[0;32m     32\u001b[0m )\n\u001b[0;32m     33\u001b[0m \u001b[38;5;28;01mfrom\u001b[39;00m \u001b[38;5;21;01mstreamlit\u001b[39;00m\u001b[38;5;21;01m.\u001b[39;00m\u001b[38;5;21;01mruntime\u001b[39;00m\u001b[38;5;21;01m.\u001b[39;00m\u001b[38;5;21;01mforward_msg_cache\u001b[39;00m \u001b[38;5;28;01mimport\u001b[39;00m (\n\u001b[0;32m     34\u001b[0m     ForwardMsgCache,\n\u001b[0;32m     35\u001b[0m     create_reference_msg,\n\u001b[0;32m     36\u001b[0m     populate_hash_if_needed,\n\u001b[0;32m     37\u001b[0m )\n",
      "File \u001b[1;32m~\\anaconda3\\lib\\site-packages\\streamlit\\runtime\\app_session.py:35\u001b[0m\n\u001b[0;32m     28\u001b[0m \u001b[38;5;28;01mfrom\u001b[39;00m \u001b[38;5;21;01mstreamlit\u001b[39;00m\u001b[38;5;21;01m.\u001b[39;00m\u001b[38;5;21;01mproto\u001b[39;00m\u001b[38;5;21;01m.\u001b[39;00m\u001b[38;5;21;01mNewSession_pb2\u001b[39;00m \u001b[38;5;28;01mimport\u001b[39;00m (\n\u001b[0;32m     29\u001b[0m     Config,\n\u001b[0;32m     30\u001b[0m     CustomThemeConfig,\n\u001b[0;32m     31\u001b[0m     NewSession,\n\u001b[0;32m     32\u001b[0m     UserInfo,\n\u001b[0;32m     33\u001b[0m )\n\u001b[0;32m     34\u001b[0m \u001b[38;5;28;01mfrom\u001b[39;00m \u001b[38;5;21;01mstreamlit\u001b[39;00m\u001b[38;5;21;01m.\u001b[39;00m\u001b[38;5;21;01mproto\u001b[39;00m\u001b[38;5;21;01m.\u001b[39;00m\u001b[38;5;21;01mPagesChanged_pb2\u001b[39;00m \u001b[38;5;28;01mimport\u001b[39;00m PagesChanged\n\u001b[1;32m---> 35\u001b[0m \u001b[38;5;28;01mfrom\u001b[39;00m \u001b[38;5;21;01mstreamlit\u001b[39;00m\u001b[38;5;21;01m.\u001b[39;00m\u001b[38;5;21;01mruntime\u001b[39;00m \u001b[38;5;28;01mimport\u001b[39;00m caching, legacy_caching\n\u001b[0;32m     36\u001b[0m \u001b[38;5;28;01mfrom\u001b[39;00m \u001b[38;5;21;01mstreamlit\u001b[39;00m\u001b[38;5;21;01m.\u001b[39;00m\u001b[38;5;21;01mruntime\u001b[39;00m\u001b[38;5;21;01m.\u001b[39;00m\u001b[38;5;21;01mcredentials\u001b[39;00m \u001b[38;5;28;01mimport\u001b[39;00m Credentials\n\u001b[0;32m     37\u001b[0m \u001b[38;5;28;01mfrom\u001b[39;00m \u001b[38;5;21;01mstreamlit\u001b[39;00m\u001b[38;5;21;01m.\u001b[39;00m\u001b[38;5;21;01mruntime\u001b[39;00m\u001b[38;5;21;01m.\u001b[39;00m\u001b[38;5;21;01mmetrics_util\u001b[39;00m \u001b[38;5;28;01mimport\u001b[39;00m Installation\n",
      "File \u001b[1;32m~\\anaconda3\\lib\\site-packages\\streamlit\\runtime\\caching\\__init__.py:21\u001b[0m\n\u001b[0;32m     18\u001b[0m \u001b[38;5;28;01mfrom\u001b[39;00m \u001b[38;5;21;01mgoogle\u001b[39;00m\u001b[38;5;21;01m.\u001b[39;00m\u001b[38;5;21;01mprotobuf\u001b[39;00m\u001b[38;5;21;01m.\u001b[39;00m\u001b[38;5;21;01mmessage\u001b[39;00m \u001b[38;5;28;01mimport\u001b[39;00m Message\n\u001b[0;32m     20\u001b[0m \u001b[38;5;28;01mfrom\u001b[39;00m \u001b[38;5;21;01mstreamlit\u001b[39;00m\u001b[38;5;21;01m.\u001b[39;00m\u001b[38;5;21;01mproto\u001b[39;00m\u001b[38;5;21;01m.\u001b[39;00m\u001b[38;5;21;01mBlock_pb2\u001b[39;00m \u001b[38;5;28;01mimport\u001b[39;00m Block\n\u001b[1;32m---> 21\u001b[0m \u001b[38;5;28;01mfrom\u001b[39;00m \u001b[38;5;21;01mstreamlit\u001b[39;00m\u001b[38;5;21;01m.\u001b[39;00m\u001b[38;5;21;01mruntime\u001b[39;00m\u001b[38;5;21;01m.\u001b[39;00m\u001b[38;5;21;01mstate\u001b[39;00m\u001b[38;5;21;01m.\u001b[39;00m\u001b[38;5;21;01msession_state\u001b[39;00m \u001b[38;5;28;01mimport\u001b[39;00m WidgetMetadata\n\u001b[0;32m     23\u001b[0m \u001b[38;5;28;01mif\u001b[39;00m TYPE_CHECKING:\n\u001b[0;32m     24\u001b[0m     \u001b[38;5;28;01mfrom\u001b[39;00m \u001b[38;5;21;01mstreamlit\u001b[39;00m\u001b[38;5;21;01m.\u001b[39;00m\u001b[38;5;21;01mdelta_generator\u001b[39;00m \u001b[38;5;28;01mimport\u001b[39;00m DeltaGenerator\n",
      "File \u001b[1;32m~\\anaconda3\\lib\\site-packages\\streamlit\\runtime\\state\\__init__.py:16\u001b[0m\n\u001b[0;32m      1\u001b[0m \u001b[38;5;66;03m# Copyright (c) Streamlit Inc. (2018-2022) Snowflake Inc. (2022)\u001b[39;00m\n\u001b[0;32m      2\u001b[0m \u001b[38;5;66;03m#\u001b[39;00m\n\u001b[0;32m      3\u001b[0m \u001b[38;5;66;03m# Licensed under the Apache License, Version 2.0 (the \"License\");\u001b[39;00m\n\u001b[1;32m   (...)\u001b[0m\n\u001b[0;32m     14\u001b[0m \n\u001b[0;32m     15\u001b[0m \u001b[38;5;66;03m# Explicitly re-export public symbols\u001b[39;00m\n\u001b[1;32m---> 16\u001b[0m \u001b[38;5;28;01mfrom\u001b[39;00m \u001b[38;5;21;01mstreamlit\u001b[39;00m\u001b[38;5;21;01m.\u001b[39;00m\u001b[38;5;21;01mruntime\u001b[39;00m\u001b[38;5;21;01m.\u001b[39;00m\u001b[38;5;21;01mstate\u001b[39;00m\u001b[38;5;21;01m.\u001b[39;00m\u001b[38;5;21;01msafe_session_state\u001b[39;00m \u001b[38;5;28;01mimport\u001b[39;00m (\n\u001b[0;32m     17\u001b[0m     SafeSessionState \u001b[38;5;28;01mas\u001b[39;00m SafeSessionState,\n\u001b[0;32m     18\u001b[0m )\n\u001b[0;32m     19\u001b[0m \u001b[38;5;28;01mfrom\u001b[39;00m \u001b[38;5;21;01mstreamlit\u001b[39;00m\u001b[38;5;21;01m.\u001b[39;00m\u001b[38;5;21;01mruntime\u001b[39;00m\u001b[38;5;21;01m.\u001b[39;00m\u001b[38;5;21;01mstate\u001b[39;00m\u001b[38;5;21;01m.\u001b[39;00m\u001b[38;5;21;01msession_state\u001b[39;00m \u001b[38;5;28;01mimport\u001b[39;00m (\n\u001b[0;32m     20\u001b[0m     SCRIPT_RUN_WITHOUT_ERRORS_KEY \u001b[38;5;28;01mas\u001b[39;00m SCRIPT_RUN_WITHOUT_ERRORS_KEY,\n\u001b[0;32m     21\u001b[0m )\n\u001b[0;32m     22\u001b[0m \u001b[38;5;28;01mfrom\u001b[39;00m \u001b[38;5;21;01mstreamlit\u001b[39;00m\u001b[38;5;21;01m.\u001b[39;00m\u001b[38;5;21;01mruntime\u001b[39;00m\u001b[38;5;21;01m.\u001b[39;00m\u001b[38;5;21;01mstate\u001b[39;00m\u001b[38;5;21;01m.\u001b[39;00m\u001b[38;5;21;01msession_state\u001b[39;00m \u001b[38;5;28;01mimport\u001b[39;00m SessionState \u001b[38;5;28;01mas\u001b[39;00m SessionState\n",
      "File \u001b[1;32m~\\anaconda3\\lib\\site-packages\\streamlit\\runtime\\state\\safe_session_state.py:20\u001b[0m\n\u001b[0;32m     18\u001b[0m \u001b[38;5;28;01mfrom\u001b[39;00m \u001b[38;5;21;01mstreamlit\u001b[39;00m\u001b[38;5;21;01m.\u001b[39;00m\u001b[38;5;21;01mproto\u001b[39;00m\u001b[38;5;21;01m.\u001b[39;00m\u001b[38;5;21;01mWidgetStates_pb2\u001b[39;00m \u001b[38;5;28;01mimport\u001b[39;00m WidgetState \u001b[38;5;28;01mas\u001b[39;00m WidgetStateProto\n\u001b[0;32m     19\u001b[0m \u001b[38;5;28;01mfrom\u001b[39;00m \u001b[38;5;21;01mstreamlit\u001b[39;00m\u001b[38;5;21;01m.\u001b[39;00m\u001b[38;5;21;01mproto\u001b[39;00m\u001b[38;5;21;01m.\u001b[39;00m\u001b[38;5;21;01mWidgetStates_pb2\u001b[39;00m \u001b[38;5;28;01mimport\u001b[39;00m WidgetStates \u001b[38;5;28;01mas\u001b[39;00m WidgetStatesProto\n\u001b[1;32m---> 20\u001b[0m \u001b[38;5;28;01mfrom\u001b[39;00m \u001b[38;5;21;01mstreamlit\u001b[39;00m\u001b[38;5;21;01m.\u001b[39;00m\u001b[38;5;21;01mruntime\u001b[39;00m\u001b[38;5;21;01m.\u001b[39;00m\u001b[38;5;21;01mstate\u001b[39;00m\u001b[38;5;21;01m.\u001b[39;00m\u001b[38;5;21;01msession_state\u001b[39;00m \u001b[38;5;28;01mimport\u001b[39;00m (\n\u001b[0;32m     21\u001b[0m     RegisterWidgetResult,\n\u001b[0;32m     22\u001b[0m     SessionState,\n\u001b[0;32m     23\u001b[0m     T,\n\u001b[0;32m     24\u001b[0m     WidgetMetadata,\n\u001b[0;32m     25\u001b[0m )\n\u001b[0;32m     28\u001b[0m \u001b[38;5;28;01mclass\u001b[39;00m \u001b[38;5;21;01mSafeSessionState\u001b[39;00m:\n\u001b[0;32m     29\u001b[0m \u001b[38;5;250m    \u001b[39m\u001b[38;5;124;03m\"\"\"Thread-safe wrapper around SessionState.\u001b[39;00m\n\u001b[0;32m     30\u001b[0m \n\u001b[0;32m     31\u001b[0m \u001b[38;5;124;03m    When AppSession gets a re-run request, it can interrupt its existing\u001b[39;00m\n\u001b[1;32m   (...)\u001b[0m\n\u001b[0;32m     36\u001b[0m \u001b[38;5;124;03m    a dummy SessionState instance to its wrapper to prevent further mutation.\u001b[39;00m\n\u001b[0;32m     37\u001b[0m \u001b[38;5;124;03m    \"\"\"\u001b[39;00m\n",
      "File \u001b[1;32m~\\anaconda3\\lib\\site-packages\\streamlit\\runtime\\state\\session_state.py:44\u001b[0m\n\u001b[0;32m     42\u001b[0m \u001b[38;5;28;01mfrom\u001b[39;00m \u001b[38;5;21;01mstreamlit\u001b[39;00m\u001b[38;5;21;01m.\u001b[39;00m\u001b[38;5;21;01mproto\u001b[39;00m\u001b[38;5;21;01m.\u001b[39;00m\u001b[38;5;21;01mWidgetStates_pb2\u001b[39;00m \u001b[38;5;28;01mimport\u001b[39;00m WidgetStates \u001b[38;5;28;01mas\u001b[39;00m WidgetStatesProto\n\u001b[0;32m     43\u001b[0m \u001b[38;5;28;01mfrom\u001b[39;00m \u001b[38;5;21;01mstreamlit\u001b[39;00m\u001b[38;5;21;01m.\u001b[39;00m\u001b[38;5;21;01mruntime\u001b[39;00m\u001b[38;5;21;01m.\u001b[39;00m\u001b[38;5;21;01mstats\u001b[39;00m \u001b[38;5;28;01mimport\u001b[39;00m CacheStat, CacheStatsProvider\n\u001b[1;32m---> 44\u001b[0m \u001b[38;5;28;01mfrom\u001b[39;00m \u001b[38;5;21;01mstreamlit\u001b[39;00m\u001b[38;5;21;01m.\u001b[39;00m\u001b[38;5;21;01mtype_util\u001b[39;00m \u001b[38;5;28;01mimport\u001b[39;00m ValueFieldName, is_array_value_field_name\n\u001b[0;32m     46\u001b[0m \u001b[38;5;28;01mif\u001b[39;00m TYPE_CHECKING:\n\u001b[0;32m     47\u001b[0m     \u001b[38;5;28;01mfrom\u001b[39;00m \u001b[38;5;21;01mstreamlit\u001b[39;00m\u001b[38;5;21;01m.\u001b[39;00m\u001b[38;5;21;01mruntime\u001b[39;00m\u001b[38;5;21;01m.\u001b[39;00m\u001b[38;5;21;01mruntime\u001b[39;00m \u001b[38;5;28;01mimport\u001b[39;00m SessionInfo\n",
      "File \u001b[1;32m~\\anaconda3\\lib\\site-packages\\streamlit\\type_util.py:35\u001b[0m\n\u001b[0;32m     20\u001b[0m \u001b[38;5;28;01mimport\u001b[39;00m \u001b[38;5;21;01mtypes\u001b[39;00m\n\u001b[0;32m     21\u001b[0m \u001b[38;5;28;01mfrom\u001b[39;00m \u001b[38;5;21;01mtyping\u001b[39;00m \u001b[38;5;28;01mimport\u001b[39;00m (\n\u001b[0;32m     22\u001b[0m     TYPE_CHECKING,\n\u001b[0;32m     23\u001b[0m     Any,\n\u001b[1;32m   (...)\u001b[0m\n\u001b[0;32m     32\u001b[0m     overload,\n\u001b[0;32m     33\u001b[0m )\n\u001b[1;32m---> 35\u001b[0m \u001b[38;5;28;01mimport\u001b[39;00m \u001b[38;5;21;01mpyarrow\u001b[39;00m \u001b[38;5;28;01mas\u001b[39;00m \u001b[38;5;21;01mpa\u001b[39;00m\n\u001b[0;32m     36\u001b[0m \u001b[38;5;28;01mfrom\u001b[39;00m \u001b[38;5;21;01mpandas\u001b[39;00m \u001b[38;5;28;01mimport\u001b[39;00m MultiIndex\n\u001b[0;32m     37\u001b[0m \u001b[38;5;28;01mfrom\u001b[39;00m \u001b[38;5;21;01mpandas\u001b[39;00m\u001b[38;5;21;01m.\u001b[39;00m\u001b[38;5;21;01mapi\u001b[39;00m\u001b[38;5;21;01m.\u001b[39;00m\u001b[38;5;21;01mtypes\u001b[39;00m \u001b[38;5;28;01mimport\u001b[39;00m infer_dtype\n",
      "File \u001b[1;32m~\\anaconda3\\lib\\site-packages\\pyarrow\\__init__.py:65\u001b[0m\n\u001b[0;32m     63\u001b[0m _gc_enabled \u001b[38;5;241m=\u001b[39m _gc\u001b[38;5;241m.\u001b[39misenabled()\n\u001b[0;32m     64\u001b[0m _gc\u001b[38;5;241m.\u001b[39mdisable()\n\u001b[1;32m---> 65\u001b[0m \u001b[38;5;28;01mimport\u001b[39;00m \u001b[38;5;21;01mpyarrow\u001b[39;00m\u001b[38;5;21;01m.\u001b[39;00m\u001b[38;5;21;01mlib\u001b[39;00m \u001b[38;5;28;01mas\u001b[39;00m \u001b[38;5;21;01m_lib\u001b[39;00m\n\u001b[0;32m     66\u001b[0m \u001b[38;5;28;01mif\u001b[39;00m _gc_enabled:\n\u001b[0;32m     67\u001b[0m     _gc\u001b[38;5;241m.\u001b[39menable()\n",
      "\u001b[1;31mImportError\u001b[0m: DLL load failed while importing lib: La procédure spécifiée est introuvable."
     ]
    }
   ],
   "source": [
    "import pandas as pd\n",
    "import numpy as np\n",
    "import matplotlib.pyplot as plt\n",
    "import re\n",
    "import os\n",
    "import seaborn as sns\n",
    "import math\n",
    "from collections import Counter\n",
    "import streamlit as st\n",
    "import altair as alt\n",
    "import plotly.express as px"
   ]
  },
  {
   "cell_type": "markdown",
   "id": "e2e6a0af",
   "metadata": {},
   "source": [
    "# 💾Load datasets"
   ]
  },
  {
   "cell_type": "markdown",
   "id": "0f8b58bd",
   "metadata": {},
   "source": [
    "### Read csv files"
   ]
  },
  {
   "cell_type": "code",
   "execution_count": 2,
   "id": "47f8bbdd",
   "metadata": {},
   "outputs": [],
   "source": [
    "drug = pd.read_csv(\"data/Drug.csv\", sep=\";\", header=1) #first dataset\n",
    "drug_clean = pd.read_csv(\"data/Drug_clean.csv\", sep=\";\", header=1) #second dataset"
   ]
  },
  {
   "cell_type": "markdown",
   "id": "f17fe21a",
   "metadata": {},
   "source": [
    "<div class=\"alert alert-block alert-info\">\n",
    "Sometimes we get a memory error, if so we need to execute these lines. \n",
    "</div>"
   ]
  },
  {
   "cell_type": "code",
   "execution_count": 3,
   "id": "027d727c",
   "metadata": {},
   "outputs": [],
   "source": [
    "drug = pd.read_csv(\"data/Drug.csv\", sep=\";\", header=1, low_memory=False) #first dataset\n",
    "drug_clean = pd.read_csv(\"data/Drug_clean.csv\", sep=\";\", header=1, low_memory=False) #second dataset"
   ]
  },
  {
   "cell_type": "markdown",
   "id": "142a29b5",
   "metadata": {},
   "source": [
    "<div class=\"alert alert-block alert-info\">\n",
    "When we open the datasets in Excel we see that the second row is the name avec the columns so we put this row as header. The first row is the number of columns, we can forget this line. The delimiter used as default by pandas is \",\", but here we need to modify it with \";\".\n",
    "</div>"
   ]
  },
  {
   "cell_type": "code",
   "execution_count": 4,
   "id": "090b709e",
   "metadata": {},
   "outputs": [
    {
     "data": {
      "text/html": [
       "<div>\n",
       "<style scoped>\n",
       "    .dataframe tbody tr th:only-of-type {\n",
       "        vertical-align: middle;\n",
       "    }\n",
       "\n",
       "    .dataframe tbody tr th {\n",
       "        vertical-align: top;\n",
       "    }\n",
       "\n",
       "    .dataframe thead th {\n",
       "        text-align: right;\n",
       "    }\n",
       "</style>\n",
       "<table border=\"1\" class=\"dataframe\">\n",
       "  <thead>\n",
       "    <tr style=\"text-align: right;\">\n",
       "      <th></th>\n",
       "      <th>Condition</th>\n",
       "      <th>Drug</th>\n",
       "      <th>Indication</th>\n",
       "      <th>Type</th>\n",
       "      <th>Reviews</th>\n",
       "      <th>Effective</th>\n",
       "      <th>EaseOfUse</th>\n",
       "      <th>Satisfaction</th>\n",
       "      <th>Information</th>\n",
       "    </tr>\n",
       "  </thead>\n",
       "  <tbody>\n",
       "    <tr>\n",
       "      <th>0</th>\n",
       "      <td>Acute Bacterial Sinusitis</td>\n",
       "      <td>Levofloxacin</td>\n",
       "      <td>On Label</td>\n",
       "      <td>RX</td>\n",
       "      <td>994 Reviews</td>\n",
       "      <td>2.52</td>\n",
       "      <td>3.01</td>\n",
       "      <td>1.84</td>\n",
       "      <td>\\r\\n\\t\\t\\t\\t\\tLevofloxacin is used to treat a ...</td>\n",
       "    </tr>\n",
       "    <tr>\n",
       "      <th>1</th>\n",
       "      <td>Acute Bacterial Sinusitis</td>\n",
       "      <td>Levofloxacin</td>\n",
       "      <td>On Label</td>\n",
       "      <td>RX</td>\n",
       "      <td>994 Reviews</td>\n",
       "      <td>2.52</td>\n",
       "      <td>3.01</td>\n",
       "      <td>1.84</td>\n",
       "      <td>\\r\\n\\t\\t\\t\\t\\tLevofloxacin is used to treat a ...</td>\n",
       "    </tr>\n",
       "    <tr>\n",
       "      <th>2</th>\n",
       "      <td>Acute Bacterial Sinusitis</td>\n",
       "      <td>Moxifloxacin</td>\n",
       "      <td>On Label</td>\n",
       "      <td>RX</td>\n",
       "      <td>755 Reviews</td>\n",
       "      <td>2.78</td>\n",
       "      <td>3.00</td>\n",
       "      <td>2.08</td>\n",
       "      <td>\\r\\n\\t\\t\\t\\t\\t This is a generic drug. The ave...</td>\n",
       "    </tr>\n",
       "    <tr>\n",
       "      <th>3</th>\n",
       "      <td>Acute Bacterial Sinusitis</td>\n",
       "      <td>Azithromycin</td>\n",
       "      <td>On Label</td>\n",
       "      <td>RX</td>\n",
       "      <td>584 Reviews</td>\n",
       "      <td>3.21</td>\n",
       "      <td>4.01</td>\n",
       "      <td>2.57</td>\n",
       "      <td>\\r\\n\\t\\t\\t\\t\\tAzithromycin is an antibiotic (m...</td>\n",
       "    </tr>\n",
       "    <tr>\n",
       "      <th>4</th>\n",
       "      <td>Acute Bacterial Sinusitis</td>\n",
       "      <td>Azithromycin</td>\n",
       "      <td>On Label</td>\n",
       "      <td>RX</td>\n",
       "      <td>584 Reviews</td>\n",
       "      <td>3.21</td>\n",
       "      <td>4.01</td>\n",
       "      <td>2.57</td>\n",
       "      <td>\\r\\n\\t\\t\\t\\t\\tAzithromycin is an antibiotic (m...</td>\n",
       "    </tr>\n",
       "  </tbody>\n",
       "</table>\n",
       "</div>"
      ],
      "text/plain": [
       "                   Condition          Drug Indication Type      Reviews  \\\n",
       "0  Acute Bacterial Sinusitis  Levofloxacin   On Label   RX  994 Reviews   \n",
       "1  Acute Bacterial Sinusitis  Levofloxacin   On Label   RX  994 Reviews   \n",
       "2  Acute Bacterial Sinusitis  Moxifloxacin   On Label   RX  755 Reviews   \n",
       "3  Acute Bacterial Sinusitis  Azithromycin   On Label   RX  584 Reviews   \n",
       "4  Acute Bacterial Sinusitis  Azithromycin   On Label   RX  584 Reviews   \n",
       "\n",
       "   Effective  EaseOfUse  Satisfaction  \\\n",
       "0       2.52       3.01          1.84   \n",
       "1       2.52       3.01          1.84   \n",
       "2       2.78       3.00          2.08   \n",
       "3       3.21       4.01          2.57   \n",
       "4       3.21       4.01          2.57   \n",
       "\n",
       "                                         Information  \n",
       "0  \\r\\n\\t\\t\\t\\t\\tLevofloxacin is used to treat a ...  \n",
       "1  \\r\\n\\t\\t\\t\\t\\tLevofloxacin is used to treat a ...  \n",
       "2  \\r\\n\\t\\t\\t\\t\\t This is a generic drug. The ave...  \n",
       "3  \\r\\n\\t\\t\\t\\t\\tAzithromycin is an antibiotic (m...  \n",
       "4  \\r\\n\\t\\t\\t\\t\\tAzithromycin is an antibiotic (m...  "
      ]
     },
     "execution_count": 4,
     "metadata": {},
     "output_type": "execute_result"
    }
   ],
   "source": [
    "drug.head()"
   ]
  },
  {
   "cell_type": "code",
   "execution_count": 5,
   "id": "0b766e04",
   "metadata": {},
   "outputs": [
    {
     "data": {
      "text/html": [
       "<div>\n",
       "<style scoped>\n",
       "    .dataframe tbody tr th:only-of-type {\n",
       "        vertical-align: middle;\n",
       "    }\n",
       "\n",
       "    .dataframe tbody tr th {\n",
       "        vertical-align: top;\n",
       "    }\n",
       "\n",
       "    .dataframe thead th {\n",
       "        text-align: right;\n",
       "    }\n",
       "</style>\n",
       "<table border=\"1\" class=\"dataframe\">\n",
       "  <thead>\n",
       "    <tr style=\"text-align: right;\">\n",
       "      <th></th>\n",
       "      <th>Condition</th>\n",
       "      <th>Drug</th>\n",
       "      <th>EaseOfUse</th>\n",
       "      <th>Effective</th>\n",
       "      <th>Form</th>\n",
       "      <th>Indication</th>\n",
       "      <th>Price</th>\n",
       "      <th>Reviews</th>\n",
       "      <th>Satisfaction</th>\n",
       "      <th>Type</th>\n",
       "    </tr>\n",
       "  </thead>\n",
       "  <tbody>\n",
       "    <tr>\n",
       "      <th>0</th>\n",
       "      <td>Acute Bacterial Sinusitis</td>\n",
       "      <td>Amoxicillin</td>\n",
       "      <td>3.852353</td>\n",
       "      <td>3.655882</td>\n",
       "      <td>Capsule</td>\n",
       "      <td>On Label</td>\n",
       "      <td>12.590000</td>\n",
       "      <td>86.294118</td>\n",
       "      <td>3.197647</td>\n",
       "      <td>RX</td>\n",
       "    </tr>\n",
       "    <tr>\n",
       "      <th>1</th>\n",
       "      <td>Acute Bacterial Sinusitis</td>\n",
       "      <td>Amoxicillin-Pot Clavulanate</td>\n",
       "      <td>3.470000</td>\n",
       "      <td>3.290000</td>\n",
       "      <td>Liquid (Drink)</td>\n",
       "      <td>Off Label</td>\n",
       "      <td>287.370000</td>\n",
       "      <td>43.000000</td>\n",
       "      <td>2.590000</td>\n",
       "      <td>RX</td>\n",
       "    </tr>\n",
       "    <tr>\n",
       "      <th>2</th>\n",
       "      <td>Acute Bacterial Sinusitis</td>\n",
       "      <td>Amoxicillin-Pot Clavulanate</td>\n",
       "      <td>3.121429</td>\n",
       "      <td>2.962857</td>\n",
       "      <td>Tablet</td>\n",
       "      <td>On Label</td>\n",
       "      <td>70.608571</td>\n",
       "      <td>267.285714</td>\n",
       "      <td>2.248571</td>\n",
       "      <td>RX</td>\n",
       "    </tr>\n",
       "    <tr>\n",
       "      <th>3</th>\n",
       "      <td>Acute Bacterial Sinusitis</td>\n",
       "      <td>Ampicillin</td>\n",
       "      <td>2.000000</td>\n",
       "      <td>3.000000</td>\n",
       "      <td>Capsule</td>\n",
       "      <td>On Label</td>\n",
       "      <td>12.590000</td>\n",
       "      <td>1.000000</td>\n",
       "      <td>1.000000</td>\n",
       "      <td>RX</td>\n",
       "    </tr>\n",
       "    <tr>\n",
       "      <th>4</th>\n",
       "      <td>Acute Bacterial Sinusitis</td>\n",
       "      <td>Ampicillin</td>\n",
       "      <td>3.250000</td>\n",
       "      <td>3.000000</td>\n",
       "      <td>Tablet</td>\n",
       "      <td>On Label</td>\n",
       "      <td>125.240000</td>\n",
       "      <td>15.000000</td>\n",
       "      <td>3.000000</td>\n",
       "      <td>RX</td>\n",
       "    </tr>\n",
       "  </tbody>\n",
       "</table>\n",
       "</div>"
      ],
      "text/plain": [
       "                   Condition                         Drug  EaseOfUse  \\\n",
       "0  Acute Bacterial Sinusitis                  Amoxicillin   3.852353   \n",
       "1  Acute Bacterial Sinusitis  Amoxicillin-Pot Clavulanate   3.470000   \n",
       "2  Acute Bacterial Sinusitis  Amoxicillin-Pot Clavulanate   3.121429   \n",
       "3  Acute Bacterial Sinusitis                   Ampicillin   2.000000   \n",
       "4  Acute Bacterial Sinusitis                   Ampicillin   3.250000   \n",
       "\n",
       "   Effective            Form Indication       Price     Reviews  Satisfaction  \\\n",
       "0   3.655882         Capsule   On Label   12.590000   86.294118      3.197647   \n",
       "1   3.290000  Liquid (Drink)  Off Label  287.370000   43.000000      2.590000   \n",
       "2   2.962857          Tablet   On Label   70.608571  267.285714      2.248571   \n",
       "3   3.000000         Capsule   On Label   12.590000    1.000000      1.000000   \n",
       "4   3.000000          Tablet   On Label  125.240000   15.000000      3.000000   \n",
       "\n",
       "  Type  \n",
       "0   RX  \n",
       "1   RX  \n",
       "2   RX  \n",
       "3   RX  \n",
       "4   RX  "
      ]
     },
     "execution_count": 5,
     "metadata": {},
     "output_type": "execute_result"
    }
   ],
   "source": [
    "drug_clean.head()"
   ]
  },
  {
   "cell_type": "markdown",
   "id": "58030aa0",
   "metadata": {},
   "source": [
    "### Get info about the datasets"
   ]
  },
  {
   "cell_type": "code",
   "execution_count": 6,
   "id": "a28763c6",
   "metadata": {},
   "outputs": [
    {
     "name": "stdout",
     "output_type": "stream",
     "text": [
      "drug dataset shape is (2219, 9)\n",
      "drug_clean dataset shape is (685, 10)\n"
     ]
    }
   ],
   "source": [
    "# datasets shape\n",
    "print(f\"drug dataset shape is {drug.shape}\")\n",
    "print(f\"drug_clean dataset shape is {drug_clean.shape}\")"
   ]
  },
  {
   "cell_type": "code",
   "execution_count": 7,
   "id": "bce85a6d",
   "metadata": {},
   "outputs": [
    {
     "name": "stdout",
     "output_type": "stream",
     "text": [
      "columns of the drug dataset are Index(['Condition', 'Drug', 'Indication', 'Type', 'Reviews', 'Effective',\n",
      "       'EaseOfUse', 'Satisfaction', 'Information'],\n",
      "      dtype='object')\n",
      "columns of the drug_clean dataset are Index(['Condition', 'Drug', 'EaseOfUse', 'Effective', 'Form', 'Indication',\n",
      "       'Price', 'Reviews', 'Satisfaction', 'Type'],\n",
      "      dtype='object')\n"
     ]
    }
   ],
   "source": [
    "# datasets columns\n",
    "print(f\"columns of the drug dataset are {drug.columns}\")\n",
    "print(f\"columns of the drug_clean dataset are {drug_clean.columns}\")"
   ]
  },
  {
   "cell_type": "markdown",
   "id": "01150646",
   "metadata": {},
   "source": [
    "<div class=\"alert alert-block alert-info\">  \n",
    "\"Information\" is in the first dataset only and \"Price\" and \"Form\" are only in the second dataset. After reading some of the rows in 'Information', we know that some information about the price and the form are written there.\n",
    "</div>"
   ]
  },
  {
   "cell_type": "code",
   "execution_count": 8,
   "id": "b28f435d",
   "metadata": {},
   "outputs": [
    {
     "name": "stdout",
     "output_type": "stream",
     "text": [
      "<class 'pandas.core.frame.DataFrame'>\n",
      "RangeIndex: 2219 entries, 0 to 2218\n",
      "Data columns (total 9 columns):\n",
      " #   Column        Non-Null Count  Dtype  \n",
      "---  ------        --------------  -----  \n",
      " 0   Condition     2219 non-null   object \n",
      " 1   Drug          2219 non-null   object \n",
      " 2   Indication    2219 non-null   object \n",
      " 3   Type          2219 non-null   object \n",
      " 4   Reviews       2219 non-null   object \n",
      " 5   Effective     2219 non-null   float64\n",
      " 6   EaseOfUse     2219 non-null   float64\n",
      " 7   Satisfaction  2219 non-null   float64\n",
      " 8   Information   2219 non-null   object \n",
      "dtypes: float64(3), object(6)\n",
      "memory usage: 156.1+ KB\n",
      "None\n",
      "<class 'pandas.core.frame.DataFrame'>\n",
      "RangeIndex: 685 entries, 0 to 684\n",
      "Data columns (total 10 columns):\n",
      " #   Column        Non-Null Count  Dtype  \n",
      "---  ------        --------------  -----  \n",
      " 0   Condition     685 non-null    object \n",
      " 1   Drug          685 non-null    object \n",
      " 2   EaseOfUse     685 non-null    float64\n",
      " 3   Effective     685 non-null    float64\n",
      " 4   Form          685 non-null    object \n",
      " 5   Indication    685 non-null    object \n",
      " 6   Price         685 non-null    float64\n",
      " 7   Reviews       685 non-null    float64\n",
      " 8   Satisfaction  685 non-null    float64\n",
      " 9   Type          685 non-null    object \n",
      "dtypes: float64(5), object(5)\n",
      "memory usage: 53.6+ KB\n",
      "None\n"
     ]
    }
   ],
   "source": [
    "# get infos (name, number of non-null and type of colums)\n",
    "print(drug.info())\n",
    "print(drug_clean.info())"
   ]
  },
  {
   "cell_type": "markdown",
   "id": "82b23097",
   "metadata": {},
   "source": [
    "<div class=\"alert alert-block alert-info\">  \n",
    "We can see that the type column \"Reviews\" is not the same, we have float64 and object.</div>"
   ]
  },
  {
   "cell_type": "code",
   "execution_count": 9,
   "id": "06292d8e",
   "metadata": {},
   "outputs": [
    {
     "name": "stdout",
     "output_type": "stream",
     "text": [
      "         Effective    EaseOfUse  Satisfaction\n",
      "count  2219.000000  2219.000000   2219.000000\n",
      "mean      3.557972     3.958824      3.218774\n",
      "std       1.113128     1.037877      1.230933\n",
      "min       1.000000     1.000000      1.000000\n",
      "25%       3.000000     3.540000      2.400000\n",
      "50%       3.680000     4.100000      3.130000\n",
      "75%       4.330000     5.000000      4.000000\n",
      "max       5.000000     5.000000      5.000000\n",
      "        EaseOfUse   Effective         Price      Reviews  Satisfaction\n",
      "count  685.000000  685.000000    685.000000   685.000000    685.000000\n",
      "mean     3.920038    3.523530    174.211183    82.644410      3.195699\n",
      "std      0.894212    0.954126    667.743466   273.281398      1.030442\n",
      "min      1.000000    1.000000      4.000000     1.000000      1.000000\n",
      "25%      3.556667    3.000000     15.490000     3.000000      2.575000\n",
      "50%      4.050000    3.600000     49.990000    10.350877      3.200000\n",
      "75%      4.500000    4.110000    145.990000    57.000000      3.901250\n",
      "max      5.000000    5.000000  10362.190000  4647.000000      5.000000\n"
     ]
    }
   ],
   "source": [
    "print(drug.describe())\n",
    "print(drug_clean.describe())"
   ]
  },
  {
   "cell_type": "markdown",
   "id": "71bb254f",
   "metadata": {},
   "source": [
    "<div class=\"alert alert-block alert-info\">\n",
    "If we look in detail into the common columns we can see that the statistics  are similar which is a good thing. It means that the info are coherent.\n",
    "</div>"
   ]
  },
  {
   "cell_type": "markdown",
   "id": "8902f8e3",
   "metadata": {},
   "source": [
    "# ⚒️Pre-processing"
   ]
  },
  {
   "cell_type": "markdown",
   "id": "5f646b81",
   "metadata": {},
   "source": [
    "<div class=\"alert alert-block alert-info\">\n",
    "We need to clean the two datasets in order to merge them.\n",
    "</div>"
   ]
  },
  {
   "cell_type": "markdown",
   "id": "8e8386bf",
   "metadata": {},
   "source": [
    "### 'Reviews' column"
   ]
  },
  {
   "cell_type": "markdown",
   "id": "153007f0",
   "metadata": {},
   "source": [
    "<div class=\"alert alert-block alert-info\">\n",
    "Let's begin with the column 'Reviews'.\n",
    "We need to clean these columns so they can be the same type.\n",
    "\n",
    "We think that the best way to do it is to delete the word 'Reviews' and transform the floats into integers as it is written in the description of the datasets. We will have to change the type of the column.\n",
    "</div>"
   ]
  },
  {
   "cell_type": "code",
   "execution_count": 10,
   "id": "130de02a",
   "metadata": {},
   "outputs": [
    {
     "name": "stdout",
     "output_type": "stream",
     "text": [
      "before pre-processing\n",
      "0    994 Reviews\n",
      "1    994 Reviews\n",
      "2    755 Reviews\n",
      "3    584 Reviews\n",
      "4    584 Reviews\n",
      "Name: Reviews, dtype: object\n",
      "6     490.000000\n",
      "7     141.600000\n",
      "8      41.000000\n",
      "9       3.666667\n",
      "10      5.666667\n",
      "Name: Reviews, dtype: float64\n",
      "\n",
      "Now let's split the object type (default separator is any whitespace) and keep the first part which is the number. To make sure, we are going to set the type as 'int' for both of the datasets.\n",
      "\n",
      "after pre-processing\n",
      "0    994\n",
      "1    994\n",
      "2    755\n",
      "3    584\n",
      "4    584\n",
      "Name: Reviews, dtype: int32\n",
      "6     490\n",
      "7     141\n",
      "8      41\n",
      "9       3\n",
      "10      5\n",
      "Name: Reviews, dtype: int32\n"
     ]
    }
   ],
   "source": [
    "print(\"before pre-processing\")\n",
    "print(drug.Reviews[0:5])\n",
    "print(drug_clean.Reviews[6:11])\n",
    "\n",
    "print(\"\\nNow let's split the object type (default separator is any whitespace) and keep the first part which is the number. To make sure, we are going to set the type as 'int' for both of the datasets.\\n\")\n",
    "drug['Reviews'] = drug['Reviews'].apply(lambda x : int(x.split()[0]))    \n",
    "drug = drug.astype({\"Reviews\": int})\n",
    "drug_clean = drug_clean.astype({\"Reviews\": int})\n",
    "\n",
    "print(\"after pre-processing\")\n",
    "print(drug.Reviews[0:5])\n",
    "print(drug_clean.Reviews[6:11])"
   ]
  },
  {
   "cell_type": "code",
   "execution_count": 11,
   "id": "e1b376bd",
   "metadata": {},
   "outputs": [
    {
     "name": "stdout",
     "output_type": "stream",
     "text": [
      "count    2219.000000\n",
      "mean       74.227129\n",
      "std       245.467102\n",
      "min         1.000000\n",
      "25%         1.000000\n",
      "50%         6.000000\n",
      "75%        43.000000\n",
      "max      4647.000000\n",
      "Name: Reviews, dtype: float64\n",
      "count     685.000000\n",
      "mean       82.477372\n",
      "std       273.280223\n",
      "min         1.000000\n",
      "25%         3.000000\n",
      "50%        10.000000\n",
      "75%        57.000000\n",
      "max      4647.000000\n",
      "Name: Reviews, dtype: float64\n"
     ]
    }
   ],
   "source": [
    "print(drug.Reviews.describe())\n",
    "print(drug_clean.Reviews.describe())"
   ]
  },
  {
   "cell_type": "markdown",
   "id": "48bb2aee",
   "metadata": {},
   "source": [
    "<div class=\"alert alert-block alert-info\">\n",
    "We can see that the two columns are pretty similar statistically.\n",
    "</div>"
   ]
  },
  {
   "cell_type": "markdown",
   "id": "06f3d770",
   "metadata": {},
   "source": [
    "<div class=\"alert alert-block alert-success\">  \n",
    "The column 'Reviews' is now well cleaned.    \n",
    "</div>"
   ]
  },
  {
   "cell_type": "markdown",
   "id": "6c0e0599",
   "metadata": {},
   "source": [
    "### 'Information' column"
   ]
  },
  {
   "cell_type": "markdown",
   "id": "7abfcac2",
   "metadata": {},
   "source": [
    "<div class=\"alert alert-block alert-info\">\n",
    "Now let's focus on the 'Information' column. We can get the price (also calculate a discount) and the form of the drug.\n",
    "</div>"
   ]
  },
  {
   "cell_type": "code",
   "execution_count": 12,
   "id": "db4c06a1",
   "metadata": {},
   "outputs": [
    {
     "name": "stdout",
     "output_type": "stream",
     "text": [
      "There are 421 different values in 'Information' column\n"
     ]
    }
   ],
   "source": [
    "print(f\"There are {drug['Information'].nunique()} different values in 'Information' column\")"
   ]
  },
  {
   "cell_type": "markdown",
   "id": "4712c326",
   "metadata": {},
   "source": [
    "<div class=\"alert alert-block alert-info\">\n",
    "Let's see how many prices by row we can get.\n",
    "</div>"
   ]
  },
  {
   "cell_type": "code",
   "execution_count": 13,
   "id": "6ae9b315",
   "metadata": {},
   "outputs": [
    {
     "name": "stdout",
     "output_type": "stream",
     "text": [
      "The number of prices we can get is in [2 1 0]\n",
      "count    2219.000000\n",
      "mean        1.863452\n",
      "std         0.351235\n",
      "min         0.000000\n",
      "25%         2.000000\n",
      "50%         2.000000\n",
      "75%         2.000000\n",
      "max         2.000000\n",
      "Name: Nb_Prices, dtype: float64\n"
     ]
    }
   ],
   "source": [
    "def number_of_prices(row):\n",
    "    for c in [\"\\r\", \"\\t\", \"\\n\"] : row['Information']=row['Information'].replace(c, \"\").strip()\n",
    "    price = len(re.findall(\"\\$(\\d+\\.\\d*)\", row['Information']))\n",
    "    return row['Information'], price\n",
    "\n",
    "drug[['Information','Nb_Prices']] = drug.apply(number_of_prices, axis=1, result_type='expand')\n",
    "print(f\"The number of prices we can get is in {drug['Nb_Prices'].unique()}\")\n",
    "print(drug['Nb_Prices'].describe())\n",
    "\n",
    "drug_clean['Nb_Prices'] = 1"
   ]
  },
  {
   "cell_type": "markdown",
   "id": "ad91d62e",
   "metadata": {},
   "source": [
    "<div class=\"alert alert-block alert-info\">  \n",
    "We can see that we can get 0, 1 or 2 prices by row. We decide to create 2 columns with the first price in 'Price' (same name as the other dataset) and the second price in 'Price2'. The column(s) will be set to NaN if there is only one price or none. We decide to not set the price at 0 because it will bias the statistics. We also add a column named 'Nb_Prices' in the second dataset and set every rows at 1.\n",
    "</div>"
   ]
  },
  {
   "cell_type": "code",
   "execution_count": 14,
   "id": "aebf8f53",
   "metadata": {},
   "outputs": [],
   "source": [
    "def get_new_info(row):\n",
    "    prices = re.findall(\"\\$(\\d+\\.\\d*)\", row['Information'])\n",
    "    if len(prices) == 2:\n",
    "        price1 = float(prices[0])\n",
    "        price2 = float(prices[1])\n",
    "        discount = round((1-(price2/price1)) * 100, 2)\n",
    "    elif len(prices) == 1:\n",
    "        price1 = float(prices[0])\n",
    "        price2 = np.nan\n",
    "        discount = np.nan\n",
    "    elif len(prices) == 0:\n",
    "        price1 = np.nan\n",
    "        price2 = np.nan\n",
    "        discount = np.nan\n",
    "        \n",
    "    return price1, price2, discount\n",
    "\n",
    "drug[['Price', 'Price2', 'Discount(%)']] = drug.apply(get_new_info, axis=1, result_type='expand')"
   ]
  },
  {
   "cell_type": "code",
   "execution_count": 15,
   "id": "f669d7c2",
   "metadata": {},
   "outputs": [
    {
     "name": "stdout",
     "output_type": "stream",
     "text": [
      "count     2213.000000\n",
      "mean       111.189584\n",
      "std        489.581768\n",
      "min          2.590000\n",
      "25%         11.990000\n",
      "50%         20.620000\n",
      "75%         79.460000\n",
      "max      10362.190000\n",
      "Name: Price, dtype: float64\n",
      "count      685.000000\n",
      "mean       174.211183\n",
      "std        667.743466\n",
      "min          4.000000\n",
      "25%         15.490000\n",
      "50%         49.990000\n",
      "75%        145.990000\n",
      "max      10362.190000\n",
      "Name: Price, dtype: float64\n"
     ]
    }
   ],
   "source": [
    "print(drug['Price'].describe())\n",
    "print(drug_clean['Price'].describe())"
   ]
  },
  {
   "cell_type": "markdown",
   "id": "f80bc857",
   "metadata": {},
   "source": [
    "<div class=\"alert alert-block alert-info\">\n",
    "After we print the statistics of 'Price' for both of the datasets we can see that they are similar. We can see that we get 2213 over 2219 prices for the first dataset. \n",
    "</div>"
   ]
  },
  {
   "cell_type": "code",
   "execution_count": 16,
   "id": "d18cb332",
   "metadata": {},
   "outputs": [
    {
     "name": "stdout",
     "output_type": "stream",
     "text": [
      "<class 'pandas.core.frame.DataFrame'>\n",
      "RangeIndex: 2219 entries, 0 to 2218\n",
      "Data columns (total 13 columns):\n",
      " #   Column        Non-Null Count  Dtype  \n",
      "---  ------        --------------  -----  \n",
      " 0   Condition     2219 non-null   object \n",
      " 1   Drug          2219 non-null   object \n",
      " 2   Indication    2219 non-null   object \n",
      " 3   Type          2219 non-null   object \n",
      " 4   Reviews       2219 non-null   int32  \n",
      " 5   Effective     2219 non-null   float64\n",
      " 6   EaseOfUse     2219 non-null   float64\n",
      " 7   Satisfaction  2219 non-null   float64\n",
      " 8   Information   2219 non-null   object \n",
      " 9   Nb_Prices     2219 non-null   int64  \n",
      " 10  Price         2213 non-null   float64\n",
      " 11  Price2        1922 non-null   float64\n",
      " 12  Discount(%)   1922 non-null   float64\n",
      "dtypes: float64(6), int32(1), int64(1), object(5)\n",
      "memory usage: 216.8+ KB\n"
     ]
    }
   ],
   "source": [
    "drug.info()"
   ]
  },
  {
   "cell_type": "markdown",
   "id": "57f1577c",
   "metadata": {},
   "source": [
    "<div class=\"alert alert-block alert-info\">\n",
    "We can see that the 3 new columns have been well added to the dataset and that there are 1922 drugs with a discount available.\n",
    "</div>"
   ]
  },
  {
   "cell_type": "markdown",
   "id": "c16b6c3e",
   "metadata": {},
   "source": [
    "<div class=\"alert alert-block alert-success\">  \n",
    "Now we have the price(s) and the discount.\n",
    "</div>"
   ]
  },
  {
   "cell_type": "markdown",
   "id": "dac6475b",
   "metadata": {},
   "source": [
    "<div class=\"alert alert-block alert-info\">  \n",
    "Let's get the form of the drug. First let's get an idea of what forms exist in the dataset where they are provided.\n",
    "</div>"
   ]
  },
  {
   "cell_type": "code",
   "execution_count": 17,
   "id": "f06431fe",
   "metadata": {},
   "outputs": [
    {
     "name": "stdout",
     "output_type": "stream",
     "text": [
      "The form of drug can be ['Capsule' 'Liquid (Drink)' 'Tablet' 'Cream' 'Liquid (Inject)' 'Other']\n"
     ]
    }
   ],
   "source": [
    "print(f\"The form of drug can be {drug_clean['Form'].unique()}\")"
   ]
  },
  {
   "cell_type": "markdown",
   "id": "590c61de",
   "metadata": {},
   "source": [
    "<div class=\"alert alert-block alert-info\">  \n",
    "We see that there are 6 types of form. We did not exclude that it can be others in the other dataset. Now we are going to search these types in the 'Information' column. To avoid syntax errors, we decide to apply .lower() to the types of form and the 'Information' column.\n",
    "</div>"
   ]
  },
  {
   "cell_type": "code",
   "execution_count": 18,
   "id": "8aeede39",
   "metadata": {},
   "outputs": [
    {
     "name": "stdout",
     "output_type": "stream",
     "text": [
      "Let's search for these forms : ['capsule', 'liquid (drink)', 'tablet', 'cream', 'liquid (inject)', 'other']\n"
     ]
    }
   ],
   "source": [
    "drug_clean['Form'] = drug_clean['Form'].str.lower()\n",
    "forms = list(drug_clean['Form'].unique())\n",
    "print(f\"Let's search for these forms : {forms}\")"
   ]
  },
  {
   "cell_type": "markdown",
   "id": "0b1521b6",
   "metadata": {},
   "source": [
    "<div class=\"alert alert-block alert-danger\">  \n",
    "We think that the value 'other' is ambiguous and we should not search for it. Here is one critical example : \"Tacrolimus is used with other medications to prevent rejection of a kidney....\", we don't want to count it. We delete 'other' of the array that we iterate through and create a list for saving the index of the row where no form is found.\n",
    "</div>"
   ]
  },
  {
   "cell_type": "code",
   "execution_count": 19,
   "id": "2dba22f6",
   "metadata": {},
   "outputs": [
    {
     "name": "stdout",
     "output_type": "stream",
     "text": [
      "We found 3 forms of drugs\n"
     ]
    }
   ],
   "source": [
    "#let's delete 'other'\n",
    "forms.pop(-1)\n",
    "\n",
    "found_forms = []\n",
    "\n",
    "def get_forms2(row):\n",
    "    for f in forms:\n",
    "        if f in row['Information']:\n",
    "            found_forms.append(f)\n",
    "            return f\n",
    "\n",
    "    return np.nan\n",
    "        \n",
    "drug['Form'] = drug.apply(get_forms2, axis=1, result_type='expand')\n",
    "\n",
    "found_forms = list(set(found_forms))\n",
    "print(f\"We found {len(found_forms)} forms of drugs\")"
   ]
  },
  {
   "cell_type": "markdown",
   "id": "8d389086",
   "metadata": {},
   "source": [
    "<div class=\"alert alert-block alert-info\">\n",
    "Only 3 forms of drugs have been found in the column. Let's see which ones.\n",
    "</div>"
   ]
  },
  {
   "cell_type": "code",
   "execution_count": 20,
   "id": "60665b79",
   "metadata": {},
   "outputs": [
    {
     "data": {
      "text/plain": [
       "array([nan, 'tablet', 'cream', 'capsule'], dtype=object)"
      ]
     },
     "execution_count": 20,
     "metadata": {},
     "output_type": "execute_result"
    }
   ],
   "source": [
    "drug['Form'].unique()"
   ]
  },
  {
   "cell_type": "markdown",
   "id": "0e000a3d",
   "metadata": {},
   "source": [
    "<div class=\"alert alert-block alert-info\">\n",
    "We have seen that we only get tablet, capsule and cream forms. We'll have to deal with the other forms.\n",
    "To get them, we are going to use regex to find every word written after an integer and a whitespace. In the first time, we are just going to create a Counter object. The latter will provides the number of occurrences of each of the word found. If there are few words, then we will be able to treat them manually and keep the ones we want.\n",
    "</div>"
   ]
  },
  {
   "cell_type": "code",
   "execution_count": 21,
   "id": "b471f8da",
   "metadata": {},
   "outputs": [
    {
     "name": "stdout",
     "output_type": "stream",
     "text": [
      "[('by', 1886), ('Tablet', 824), ('Tube', 235), ('Bottle', 209), ('Capsule', 171), ('Box', 40), ('Vial', 38), ('Solution', 27), ('Hour', 23), ('suppository', 21), ('Can', 13), ('Suspension', 10), ('Syringe', 10), ('patch', 10), ('at', 7), ('Pen', 7), ('medications', 6), ('', 5), ('each', 5), ('Package', 5), ('packet', 4), ('Jar', 3), ('kit', 2), ('ingredients', 2), ('days', 2), ('Inhaler', 2), ('aerosol', 2), ('Implant', 1)]\n"
     ]
    }
   ],
   "source": [
    "array_forms = []\n",
    "\n",
    "def get_new_forms(row):\n",
    "    result = re.findall(r\"\\d(\\s\\w*)\", row['Information'])\n",
    "    [array_forms.append(item_result.strip()) for item_result in result if (item_result not in array_forms) and (len(result) != 0)]\n",
    "        \n",
    "drug[drug['Form'].isnull()].apply(get_new_forms, axis=1, result_type='expand')\n",
    "\n",
    "c = Counter(array_forms)\n",
    "print(c.most_common())"
   ]
  },
  {
   "cell_type": "code",
   "execution_count": 22,
   "id": "d6135b17",
   "metadata": {},
   "outputs": [
    {
     "name": "stdout",
     "output_type": "stream",
     "text": [
      "There are 1892 rows without any forms (at np.nan)\n"
     ]
    }
   ],
   "source": [
    "print(f\"There are {drug[drug['Form'].isnull()].shape[0]} rows without any forms (at np.nan)\")"
   ]
  },
  {
   "cell_type": "markdown",
   "id": "c1234abf",
   "metadata": {},
   "source": [
    "<div class=\"alert alert-block alert-info\">\n",
    "We found 897 rows without any forms (among tablet, capsule and cream). With the counter, we can see that the total is bigger than 897, it means that it can be more than one form per row. We can see that some of the words found can easily be forgotten, for example \"by\", \"\", \"days\", \"at\", \"each\" and \"ingredients\". Let's delete them and count the occurrences of all the other words.\n",
    "</div>"
   ]
  },
  {
   "cell_type": "code",
   "execution_count": 23,
   "id": "617028d0",
   "metadata": {},
   "outputs": [
    {
     "name": "stdout",
     "output_type": "stream",
     "text": [
      "[('Tablet', 824), ('Tube', 235), ('Bottle', 209), ('Capsule', 171), ('Box', 40), ('Vial', 38), ('Solution', 27), ('Hour', 23), ('suppository', 21), ('Can', 13), ('Suspension', 10), ('Syringe', 10), ('patch', 10), ('Pen', 7), ('medications', 6), ('Package', 5), ('packet', 4), ('Jar', 3), ('kit', 2), ('Inhaler', 2), ('aerosol', 2), ('Implant', 1)]\n"
     ]
    }
   ],
   "source": [
    "for to_delete in [\"by\", \"\", \"days\", \"at\", \"each\", \"ingredients\"]:\n",
    "    array_forms = list(filter((to_delete).__ne__, array_forms))\n",
    "c = Counter(array_forms)\n",
    "print(c.most_common())"
   ]
  },
  {
   "cell_type": "markdown",
   "id": "80ef3d01",
   "metadata": {},
   "source": [
    "<div class=\"alert alert-block alert-info\">\n",
    "At the end, we decide to keep all of the other words and do an .apply() to the dataset to write the form. As we said before, it exists many cases where there are multiple forms of drugs, to keep it simple we will just keep the first type of form written.\n",
    "</div>"
   ]
  },
  {
   "cell_type": "code",
   "execution_count": 24,
   "id": "10c4721a",
   "metadata": {},
   "outputs": [
    {
     "name": "stdout",
     "output_type": "stream",
     "text": [
      "At the end we have multiple types of forms : ['Tablet' 'Bottle' 'tablet' nan 'Capsule' 'Vial' 'Suspension' 'Solution'\n",
      " 'Tube' 'Can' 'cream' 'Box' 'Jar' 'medications' 'Syringe' 'Implant'\n",
      " 'capsule' 'Package' 'Pen' 'Inhaler']\n"
     ]
    }
   ],
   "source": [
    "found_forms = []\n",
    "new_forms = [i[0] for i in c.most_common()]\n",
    "\n",
    "def get_new_forms(row):\n",
    "    try: \n",
    "        if np.isnan(row['Form']) :\n",
    "            for f in new_forms:\n",
    "                if f in row['Information']:\n",
    "                    found_forms.append(f)\n",
    "                    return f\n",
    "            return np.nan\n",
    "\n",
    "    except:\n",
    "        return row['Form']\n",
    "        \n",
    "drug['Form'] = drug.apply(get_new_forms, axis=1, result_type='expand')\n",
    "\n",
    "print(f\"At the end we have multiple types of forms : {drug['Form'].unique()}\")"
   ]
  },
  {
   "cell_type": "code",
   "execution_count": 25,
   "id": "950a73c1",
   "metadata": {},
   "outputs": [
    {
     "name": "stdout",
     "output_type": "stream",
     "text": [
      "There are 290 rows without any forms (np.nan)\n"
     ]
    }
   ],
   "source": [
    "print(f\"There are {drug[drug['Form'].isnull()].shape[0]} rows without any forms (np.nan)\")"
   ]
  },
  {
   "cell_type": "markdown",
   "id": "892163b2",
   "metadata": {},
   "source": [
    "<div class=\"alert alert-block alert-info\">\n",
    "After this, only 6 rows did not have any form. We keep in mind that we want to merge the first dataset with the second one. Several rows in the column 'Form' can be modified to be merged. For example, tube -> cream, bottle -> liquid (drink) etc.\n",
    "</div>"
   ]
  },
  {
   "cell_type": "code",
   "execution_count": 26,
   "id": "639f6d07",
   "metadata": {},
   "outputs": [],
   "source": [
    "def modify_form_columns(row):\n",
    "    if 'tube' == row['Form']:\n",
    "        return 'cream'\n",
    "            \n",
    "    elif 'bottle' == row['Form']:\n",
    "        return 'liquid (drink)'\n",
    "    elif 'vial' == row['Form']:\n",
    "        return 'liquid (drink)'\n",
    "    elif 'solution' == row['Form']:\n",
    "        return 'liquid (drink)'\n",
    "            \n",
    "    elif 'can' == row['Form']:\n",
    "        return 'other'\n",
    "    elif 'box' == row['Form']:\n",
    "        return 'other'\n",
    "        \n",
    "\n",
    "    else:\n",
    "        return row['Form']\n",
    "\n",
    "drug['Form'] = drug.apply(modify_form_columns, axis=1, result_type='expand')"
   ]
  },
  {
   "cell_type": "markdown",
   "id": "fc7c77d7",
   "metadata": {},
   "source": [
    "<div class=\"alert alert-block alert-info\">\n",
    "Let's print all the types of forms in the datatset that we have.\n",
    "</div>"
   ]
  },
  {
   "cell_type": "code",
   "execution_count": 27,
   "id": "c78765fa",
   "metadata": {},
   "outputs": [
    {
     "data": {
      "text/plain": [
       "Counter({'Tablet': 824,\n",
       "         'Bottle': 209,\n",
       "         'tablet': 319,\n",
       "         nan: 290,\n",
       "         'Capsule': 171,\n",
       "         'Vial': 38,\n",
       "         'Suspension': 10,\n",
       "         'Solution': 27,\n",
       "         'Tube': 235,\n",
       "         'Can': 13,\n",
       "         'cream': 2,\n",
       "         'Box': 40,\n",
       "         'Jar': 3,\n",
       "         'medications': 7,\n",
       "         'Syringe': 10,\n",
       "         'Implant': 1,\n",
       "         'capsule': 6,\n",
       "         'Package': 5,\n",
       "         'Pen': 7,\n",
       "         'Inhaler': 2})"
      ]
     },
     "execution_count": 27,
     "metadata": {},
     "output_type": "execute_result"
    }
   ],
   "source": [
    "Counter(drug['Form'])"
   ]
  },
  {
   "cell_type": "markdown",
   "id": "c535c821",
   "metadata": {},
   "source": [
    "<div class=\"alert alert-block alert-success\">\n",
    "Now the 'Form' column is well cleaned.\n",
    "</div>"
   ]
  },
  {
   "cell_type": "markdown",
   "id": "fc4cc32f",
   "metadata": {},
   "source": [
    "### Datasets merge"
   ]
  },
  {
   "cell_type": "code",
   "execution_count": 28,
   "id": "edaf2f45",
   "metadata": {},
   "outputs": [
    {
     "data": {
      "text/plain": [
       "(2904, 14)"
      ]
     },
     "execution_count": 28,
     "metadata": {},
     "output_type": "execute_result"
    }
   ],
   "source": [
    "all_drugs = pd.concat([drug, drug_clean])\n",
    "all_drugs.shape"
   ]
  },
  {
   "cell_type": "code",
   "execution_count": 29,
   "id": "8fdf7ee4",
   "metadata": {},
   "outputs": [
    {
     "data": {
      "text/plain": [
       "Index(['Condition', 'Drug', 'Indication', 'Type', 'Reviews', 'Effective',\n",
       "       'EaseOfUse', 'Satisfaction', 'Information', 'Nb_Prices', 'Price',\n",
       "       'Price2', 'Discount(%)', 'Form'],\n",
       "      dtype='object')"
      ]
     },
     "execution_count": 29,
     "metadata": {},
     "output_type": "execute_result"
    }
   ],
   "source": [
    "all_drugs.columns"
   ]
  },
  {
   "cell_type": "markdown",
   "id": "b6eaf8e4",
   "metadata": {},
   "source": [
    "<div class=\"alert alert-block alert-info\">\n",
    "We can see that the datasets are well merged, we have the original columns plus the 3 new columns (Nb_Prices, Price2 and Discount(%)). Let's delete all duplicated rows if needed.\n",
    "</div>"
   ]
  },
  {
   "cell_type": "code",
   "execution_count": 30,
   "id": "88b57998",
   "metadata": {},
   "outputs": [
    {
     "data": {
      "text/plain": [
       "(2438, 14)"
      ]
     },
     "execution_count": 30,
     "metadata": {},
     "output_type": "execute_result"
    }
   ],
   "source": [
    "all_drugs.drop_duplicates(inplace=True)\n",
    "all_drugs.shape"
   ]
  },
  {
   "cell_type": "markdown",
   "id": "7e3303f6",
   "metadata": {},
   "source": [
    "<div class=\"alert alert-block alert-info\">\n",
    "We can see that more or less 500 rows are duplicates.\n",
    "</div>"
   ]
  },
  {
   "cell_type": "code",
   "execution_count": 31,
   "id": "91fea901",
   "metadata": {},
   "outputs": [
    {
     "data": {
      "text/html": [
       "<div>\n",
       "<style scoped>\n",
       "    .dataframe tbody tr th:only-of-type {\n",
       "        vertical-align: middle;\n",
       "    }\n",
       "\n",
       "    .dataframe tbody tr th {\n",
       "        vertical-align: top;\n",
       "    }\n",
       "\n",
       "    .dataframe thead th {\n",
       "        text-align: right;\n",
       "    }\n",
       "</style>\n",
       "<table border=\"1\" class=\"dataframe\">\n",
       "  <thead>\n",
       "    <tr style=\"text-align: right;\">\n",
       "      <th></th>\n",
       "      <th>Reviews</th>\n",
       "      <th>Effective</th>\n",
       "      <th>EaseOfUse</th>\n",
       "      <th>Satisfaction</th>\n",
       "      <th>Nb_Prices</th>\n",
       "      <th>Price</th>\n",
       "      <th>Price2</th>\n",
       "      <th>Discount(%)</th>\n",
       "    </tr>\n",
       "  </thead>\n",
       "  <tbody>\n",
       "    <tr>\n",
       "      <th>count</th>\n",
       "      <td>2438.000000</td>\n",
       "      <td>2438.000000</td>\n",
       "      <td>2438.000000</td>\n",
       "      <td>2438.000000</td>\n",
       "      <td>2438.000000</td>\n",
       "      <td>2432.000000</td>\n",
       "      <td>1521.000000</td>\n",
       "      <td>1521.000000</td>\n",
       "    </tr>\n",
       "    <tr>\n",
       "      <th>mean</th>\n",
       "      <td>69.556604</td>\n",
       "      <td>3.535610</td>\n",
       "      <td>3.934260</td>\n",
       "      <td>3.184218</td>\n",
       "      <td>1.621411</td>\n",
       "      <td>136.090165</td>\n",
       "      <td>82.485917</td>\n",
       "      <td>47.451453</td>\n",
       "    </tr>\n",
       "    <tr>\n",
       "      <th>std</th>\n",
       "      <td>241.159349</td>\n",
       "      <td>1.077032</td>\n",
       "      <td>1.004022</td>\n",
       "      <td>1.173949</td>\n",
       "      <td>0.490184</td>\n",
       "      <td>573.427349</td>\n",
       "      <td>422.773462</td>\n",
       "      <td>21.832341</td>\n",
       "    </tr>\n",
       "    <tr>\n",
       "      <th>min</th>\n",
       "      <td>1.000000</td>\n",
       "      <td>1.000000</td>\n",
       "      <td>1.000000</td>\n",
       "      <td>1.000000</td>\n",
       "      <td>0.000000</td>\n",
       "      <td>2.590000</td>\n",
       "      <td>2.640000</td>\n",
       "      <td>0.270000</td>\n",
       "    </tr>\n",
       "    <tr>\n",
       "      <th>25%</th>\n",
       "      <td>2.000000</td>\n",
       "      <td>3.000000</td>\n",
       "      <td>3.502500</td>\n",
       "      <td>2.440000</td>\n",
       "      <td>1.000000</td>\n",
       "      <td>12.110000</td>\n",
       "      <td>7.180000</td>\n",
       "      <td>31.030000</td>\n",
       "    </tr>\n",
       "    <tr>\n",
       "      <th>50%</th>\n",
       "      <td>7.000000</td>\n",
       "      <td>3.670000</td>\n",
       "      <td>4.070000</td>\n",
       "      <td>3.134000</td>\n",
       "      <td>2.000000</td>\n",
       "      <td>28.990000</td>\n",
       "      <td>13.500000</td>\n",
       "      <td>50.930000</td>\n",
       "    </tr>\n",
       "    <tr>\n",
       "      <th>75%</th>\n",
       "      <td>39.000000</td>\n",
       "      <td>4.250000</td>\n",
       "      <td>4.670000</td>\n",
       "      <td>4.000000</td>\n",
       "      <td>2.000000</td>\n",
       "      <td>99.590000</td>\n",
       "      <td>44.820000</td>\n",
       "      <td>63.380000</td>\n",
       "    </tr>\n",
       "    <tr>\n",
       "      <th>max</th>\n",
       "      <td>4647.000000</td>\n",
       "      <td>5.000000</td>\n",
       "      <td>5.000000</td>\n",
       "      <td>5.000000</td>\n",
       "      <td>2.000000</td>\n",
       "      <td>10362.190000</td>\n",
       "      <td>8689.950000</td>\n",
       "      <td>91.940000</td>\n",
       "    </tr>\n",
       "  </tbody>\n",
       "</table>\n",
       "</div>"
      ],
      "text/plain": [
       "           Reviews    Effective    EaseOfUse  Satisfaction    Nb_Prices  \\\n",
       "count  2438.000000  2438.000000  2438.000000   2438.000000  2438.000000   \n",
       "mean     69.556604     3.535610     3.934260      3.184218     1.621411   \n",
       "std     241.159349     1.077032     1.004022      1.173949     0.490184   \n",
       "min       1.000000     1.000000     1.000000      1.000000     0.000000   \n",
       "25%       2.000000     3.000000     3.502500      2.440000     1.000000   \n",
       "50%       7.000000     3.670000     4.070000      3.134000     2.000000   \n",
       "75%      39.000000     4.250000     4.670000      4.000000     2.000000   \n",
       "max    4647.000000     5.000000     5.000000      5.000000     2.000000   \n",
       "\n",
       "              Price       Price2  Discount(%)  \n",
       "count   2432.000000  1521.000000  1521.000000  \n",
       "mean     136.090165    82.485917    47.451453  \n",
       "std      573.427349   422.773462    21.832341  \n",
       "min        2.590000     2.640000     0.270000  \n",
       "25%       12.110000     7.180000    31.030000  \n",
       "50%       28.990000    13.500000    50.930000  \n",
       "75%       99.590000    44.820000    63.380000  \n",
       "max    10362.190000  8689.950000    91.940000  "
      ]
     },
     "execution_count": 31,
     "metadata": {},
     "output_type": "execute_result"
    }
   ],
   "source": [
    "all_drugs.describe()"
   ]
  },
  {
   "cell_type": "code",
   "execution_count": 32,
   "id": "1c7fad62",
   "metadata": {},
   "outputs": [
    {
     "name": "stdout",
     "output_type": "stream",
     "text": [
      "<class 'pandas.core.frame.DataFrame'>\n",
      "Int64Index: 2438 entries, 0 to 684\n",
      "Data columns (total 14 columns):\n",
      " #   Column        Non-Null Count  Dtype  \n",
      "---  ------        --------------  -----  \n",
      " 0   Condition     2438 non-null   object \n",
      " 1   Drug          2438 non-null   object \n",
      " 2   Indication    2438 non-null   object \n",
      " 3   Type          2438 non-null   object \n",
      " 4   Reviews       2438 non-null   int32  \n",
      " 5   Effective     2438 non-null   float64\n",
      " 6   EaseOfUse     2438 non-null   float64\n",
      " 7   Satisfaction  2438 non-null   float64\n",
      " 8   Information   1753 non-null   object \n",
      " 9   Nb_Prices     2438 non-null   int64  \n",
      " 10  Price         2432 non-null   float64\n",
      " 11  Price2        1521 non-null   float64\n",
      " 12  Discount(%)   1521 non-null   float64\n",
      " 13  Form          2213 non-null   object \n",
      "dtypes: float64(6), int32(1), int64(1), object(6)\n",
      "memory usage: 276.2+ KB\n"
     ]
    }
   ],
   "source": [
    "all_drugs.info()"
   ]
  },
  {
   "cell_type": "markdown",
   "id": "2294113a",
   "metadata": {},
   "source": [
    "<div class=\"alert alert-block alert-info\">\n",
    "Now that we have merged ours datasets, we can create a final csv file.\n",
    "</div>"
   ]
  },
  {
   "cell_type": "code",
   "execution_count": 33,
   "id": "18da66c7",
   "metadata": {},
   "outputs": [],
   "source": [
    "if not os.path.exists(\"data/final_drug.csv\"):\n",
    "    all_drugs.to_csv(\"data/final_drug.csv\", index=False)"
   ]
  },
  {
   "cell_type": "code",
   "execution_count": 34,
   "id": "7862e6c4",
   "metadata": {},
   "outputs": [],
   "source": [
    "final_drug = pd.read_csv(\"data/final_drug.csv\", low_memory=False)"
   ]
  },
  {
   "cell_type": "code",
   "execution_count": 35,
   "id": "b2642e9a",
   "metadata": {},
   "outputs": [
    {
     "data": {
      "text/html": [
       "<div>\n",
       "<style scoped>\n",
       "    .dataframe tbody tr th:only-of-type {\n",
       "        vertical-align: middle;\n",
       "    }\n",
       "\n",
       "    .dataframe tbody tr th {\n",
       "        vertical-align: top;\n",
       "    }\n",
       "\n",
       "    .dataframe thead th {\n",
       "        text-align: right;\n",
       "    }\n",
       "</style>\n",
       "<table border=\"1\" class=\"dataframe\">\n",
       "  <thead>\n",
       "    <tr style=\"text-align: right;\">\n",
       "      <th></th>\n",
       "      <th>Condition</th>\n",
       "      <th>Drug</th>\n",
       "      <th>Indication</th>\n",
       "      <th>Type</th>\n",
       "      <th>Reviews</th>\n",
       "      <th>Effective</th>\n",
       "      <th>EaseOfUse</th>\n",
       "      <th>Satisfaction</th>\n",
       "      <th>Information</th>\n",
       "      <th>Nb_Prices</th>\n",
       "      <th>Price</th>\n",
       "      <th>Price2</th>\n",
       "      <th>Discount(%)</th>\n",
       "      <th>Form</th>\n",
       "    </tr>\n",
       "  </thead>\n",
       "  <tbody>\n",
       "    <tr>\n",
       "      <th>0</th>\n",
       "      <td>Acute Bacterial Sinusitis</td>\n",
       "      <td>Levofloxacin</td>\n",
       "      <td>On Label</td>\n",
       "      <td>RX</td>\n",
       "      <td>994</td>\n",
       "      <td>2.52</td>\n",
       "      <td>3.01</td>\n",
       "      <td>1.84</td>\n",
       "      <td>levofloxacin is used to treat a variety of bac...</td>\n",
       "      <td>2</td>\n",
       "      <td>172.99</td>\n",
       "      <td>47.08</td>\n",
       "      <td>72.78</td>\n",
       "      <td>tablet</td>\n",
       "    </tr>\n",
       "    <tr>\n",
       "      <th>1</th>\n",
       "      <td>Acute Bacterial Sinusitis</td>\n",
       "      <td>Moxifloxacin</td>\n",
       "      <td>On Label</td>\n",
       "      <td>RX</td>\n",
       "      <td>755</td>\n",
       "      <td>2.78</td>\n",
       "      <td>3.00</td>\n",
       "      <td>2.08</td>\n",
       "      <td>this is a generic drug. the average cash price...</td>\n",
       "      <td>2</td>\n",
       "      <td>74.99</td>\n",
       "      <td>34.89</td>\n",
       "      <td>53.47</td>\n",
       "      <td>liquid (drink)</td>\n",
       "    </tr>\n",
       "    <tr>\n",
       "      <th>2</th>\n",
       "      <td>Acute Bacterial Sinusitis</td>\n",
       "      <td>Azithromycin</td>\n",
       "      <td>On Label</td>\n",
       "      <td>RX</td>\n",
       "      <td>584</td>\n",
       "      <td>3.21</td>\n",
       "      <td>4.01</td>\n",
       "      <td>2.57</td>\n",
       "      <td>azithromycin is an antibiotic (macrolide-type)...</td>\n",
       "      <td>2</td>\n",
       "      <td>32.10</td>\n",
       "      <td>12.48</td>\n",
       "      <td>61.12</td>\n",
       "      <td>tablet</td>\n",
       "    </tr>\n",
       "    <tr>\n",
       "      <th>3</th>\n",
       "      <td>Acute Bacterial Sinusitis</td>\n",
       "      <td>Amoxicillin-Pot Clavulanate</td>\n",
       "      <td>On Label</td>\n",
       "      <td>RX</td>\n",
       "      <td>437</td>\n",
       "      <td>3.26</td>\n",
       "      <td>3.23</td>\n",
       "      <td>2.42</td>\n",
       "      <td>amoxicillin/clavulanic acid is a combination p...</td>\n",
       "      <td>1</td>\n",
       "      <td>20.62</td>\n",
       "      <td>NaN</td>\n",
       "      <td>NaN</td>\n",
       "      <td>other</td>\n",
       "    </tr>\n",
       "    <tr>\n",
       "      <th>4</th>\n",
       "      <td>Acute Bacterial Sinusitis</td>\n",
       "      <td>Levofloxacin</td>\n",
       "      <td>On Label</td>\n",
       "      <td>RX</td>\n",
       "      <td>361</td>\n",
       "      <td>2.44</td>\n",
       "      <td>2.96</td>\n",
       "      <td>1.68</td>\n",
       "      <td>levofloxacin is used to treat a variety of bac...</td>\n",
       "      <td>2</td>\n",
       "      <td>172.99</td>\n",
       "      <td>47.08</td>\n",
       "      <td>72.78</td>\n",
       "      <td>tablet</td>\n",
       "    </tr>\n",
       "  </tbody>\n",
       "</table>\n",
       "</div>"
      ],
      "text/plain": [
       "                   Condition                         Drug Indication Type  \\\n",
       "0  Acute Bacterial Sinusitis                 Levofloxacin   On Label   RX   \n",
       "1  Acute Bacterial Sinusitis                 Moxifloxacin   On Label   RX   \n",
       "2  Acute Bacterial Sinusitis                 Azithromycin   On Label   RX   \n",
       "3  Acute Bacterial Sinusitis  Amoxicillin-Pot Clavulanate   On Label   RX   \n",
       "4  Acute Bacterial Sinusitis                 Levofloxacin   On Label   RX   \n",
       "\n",
       "   Reviews  Effective  EaseOfUse  Satisfaction  \\\n",
       "0      994       2.52       3.01          1.84   \n",
       "1      755       2.78       3.00          2.08   \n",
       "2      584       3.21       4.01          2.57   \n",
       "3      437       3.26       3.23          2.42   \n",
       "4      361       2.44       2.96          1.68   \n",
       "\n",
       "                                         Information  Nb_Prices   Price  \\\n",
       "0  levofloxacin is used to treat a variety of bac...          2  172.99   \n",
       "1  this is a generic drug. the average cash price...          2   74.99   \n",
       "2  azithromycin is an antibiotic (macrolide-type)...          2   32.10   \n",
       "3  amoxicillin/clavulanic acid is a combination p...          1   20.62   \n",
       "4  levofloxacin is used to treat a variety of bac...          2  172.99   \n",
       "\n",
       "   Price2  Discount(%)            Form  \n",
       "0   47.08        72.78          tablet  \n",
       "1   34.89        53.47  liquid (drink)  \n",
       "2   12.48        61.12          tablet  \n",
       "3     NaN          NaN           other  \n",
       "4   47.08        72.78          tablet  "
      ]
     },
     "execution_count": 35,
     "metadata": {},
     "output_type": "execute_result"
    }
   ],
   "source": [
    "final_drug.head()"
   ]
  },
  {
   "cell_type": "markdown",
   "id": "474b02f3",
   "metadata": {},
   "source": [
    "# 📊Data visualization "
   ]
  },
  {
   "cell_type": "markdown",
   "id": "4fdff79e",
   "metadata": {},
   "source": [
    "<div class=\"alert alert-block alert-info\">\n",
    "Now that we have a cleaned csv file, we can analyse it and start get anwsers. First, let's calculate the correlation heatmap to see if there are any correlations between 'Satisfaction' and other variables.\n",
    "</div>"
   ]
  },
  {
   "cell_type": "code",
   "execution_count": 38,
   "id": "d3735054",
   "metadata": {},
   "outputs": [
    {
     "ename": "TypeError",
     "evalue": "corr() got an unexpected keyword argument 'numeric_only'",
     "output_type": "error",
     "traceback": [
      "\u001b[1;31m---------------------------------------------------------------------------\u001b[0m",
      "\u001b[1;31mTypeError\u001b[0m                                 Traceback (most recent call last)",
      "Cell \u001b[1;32mIn[38], line 1\u001b[0m\n\u001b[1;32m----> 1\u001b[0m sns\u001b[38;5;241m.\u001b[39mheatmap(\u001b[43mfinal_drug\u001b[49m\u001b[38;5;241;43m.\u001b[39;49m\u001b[43mcorr\u001b[49m\u001b[43m(\u001b[49m\u001b[43mnumeric_only\u001b[49m\u001b[38;5;241;43m=\u001b[39;49m\u001b[38;5;28;43;01mTrue\u001b[39;49;00m\u001b[43m)\u001b[49m, annot\u001b[38;5;241m=\u001b[39m\u001b[38;5;28;01mTrue\u001b[39;00m, linewidth\u001b[38;5;241m=\u001b[39m\u001b[38;5;241m.5\u001b[39m)\n",
      "\u001b[1;31mTypeError\u001b[0m: corr() got an unexpected keyword argument 'numeric_only'"
     ]
    }
   ],
   "source": [
    "sns.heatmap(final_drug.corr(numeric_only=True), annot=True, linewidth=.5)"
   ]
  },
  {
   "cell_type": "markdown",
   "id": "55b6d047",
   "metadata": {},
   "source": [
    "<div class=\"alert alert-block alert-info\">\n",
    "With the heatmap we can see that the satisfaction is strongly linked to the effectivness of the drug and its ease of use. It's an information coherent, the more the effectivness is high, happier the patient is. It is also true if it is easy to take the drug (by eating or drinking it for example).\n",
    "Let's see their relationship.</div>"
   ]
  },
  {
   "cell_type": "code",
   "execution_count": 39,
   "id": "4f084855",
   "metadata": {},
   "outputs": [
    {
     "data": {
      "image/png": "[encoded data removed]",
      "text/plain": [
       "<Figure size 750x750 with 9 Axes>"
      ]
     },
     "metadata": {},
     "output_type": "display_data"
    }
   ],
   "source": [
    "sns.pairplot(final_drug[['Effective', 'Satisfaction', 'EaseOfUse']], corner=True)\n",
    "plt.show()"
   ]
  },
  {
   "cell_type": "markdown",
   "id": "cfc6b5e1",
   "metadata": {},
   "source": [
    "<div class=\"alert alert-block alert-info\">\n",
    "We can see that the relationship between the Satisfaction and the Effective is close to an affine function (same for EaseOfUse and Satisfaction). We can draw it with the regplot function from seaborn.\n",
    "</div>"
   ]
  },
  {
   "cell_type": "code",
   "execution_count": 41,
   "id": "b1272f2c",
   "metadata": {},
   "outputs": [
    {
     "data": {
      "image/png": "[encoded data removed]",
      "text/plain": [
       "<Figure size 640x480 with 1 Axes>"
      ]
     },
     "metadata": {},
     "output_type": "display_data"
    }
   ],
   "source": [
    "sns.regplot(x=final_drug['Satisfaction'], y=final_drug['Effective'], line_kws={\"color\": \"red\"})\n",
    "plt.show()"
   ]
  },
  {
   "cell_type": "code",
   "execution_count": 42,
   "id": "fc059eba",
   "metadata": {},
   "outputs": [
    {
     "data": {
      "image/png": "[encoded data removed]",
      "text/plain": [
       "<Figure size 640x480 with 1 Axes>"
      ]
     },
     "metadata": {},
     "output_type": "display_data"
    }
   ],
   "source": [
    "sns.regplot(x=final_drug['Satisfaction'], y=final_drug['EaseOfUse'], line_kws={\"color\": \"red\"})\n",
    "plt.show()"
   ]
  },
  {
   "cell_type": "markdown",
   "id": "1b47fdb8",
   "metadata": {},
   "source": [
    "<div class=\"alert alert-block alert-info\">\n",
    "To sum up, the Satisfaction is correlated to Effective and EaseOfUse values and we know that with the value of one of it, we can get a pretty close idea of the Satisfaction. What if we use a machine learning model to predict a new value of Satisfaction ?\n",
    "</div>"
   ]
  },
  {
   "cell_type": "markdown",
   "id": "d1248cb7",
   "metadata": {},
   "source": [
    "# 🚂Training a model"
   ]
  },
  {
   "cell_type": "markdown",
   "id": "b475cd5d",
   "metadata": {},
   "source": [
    "<div class=\"alert alert-block alert-info\">\n",
    "To train our model, we need to decide which columns will be the inputs and the target. We know that the Satisfaction is very correlated with the Effective and EaseOfUse of the drug but if we use them as input it will be too simple for the model to predict the Satisfaction. We decide to keep them as inputs and add 'Reviews' and 'Price'. The target is 'Satisfaction'.\n",
    "</div>"
   ]
  },
  {
   "cell_type": "code",
   "execution_count": 43,
   "id": "44f9b993",
   "metadata": {},
   "outputs": [
    {
     "data": {
      "text/html": [
       "<div>\n",
       "<style scoped>\n",
       "    .dataframe tbody tr th:only-of-type {\n",
       "        vertical-align: middle;\n",
       "    }\n",
       "\n",
       "    .dataframe tbody tr th {\n",
       "        vertical-align: top;\n",
       "    }\n",
       "\n",
       "    .dataframe thead th {\n",
       "        text-align: right;\n",
       "    }\n",
       "</style>\n",
       "<table border=\"1\" class=\"dataframe\">\n",
       "  <thead>\n",
       "    <tr style=\"text-align: right;\">\n",
       "      <th></th>\n",
       "      <th>Effective</th>\n",
       "      <th>EaseOfUse</th>\n",
       "      <th>Reviews</th>\n",
       "      <th>Price</th>\n",
       "      <th>Satisfaction</th>\n",
       "    </tr>\n",
       "  </thead>\n",
       "  <tbody>\n",
       "    <tr>\n",
       "      <th>count</th>\n",
       "      <td>2438.000000</td>\n",
       "      <td>2438.000000</td>\n",
       "      <td>2438.000000</td>\n",
       "      <td>2432.000000</td>\n",
       "      <td>2438.000000</td>\n",
       "    </tr>\n",
       "    <tr>\n",
       "      <th>mean</th>\n",
       "      <td>3.535610</td>\n",
       "      <td>3.934260</td>\n",
       "      <td>69.556604</td>\n",
       "      <td>136.090165</td>\n",
       "      <td>3.184218</td>\n",
       "    </tr>\n",
       "    <tr>\n",
       "      <th>std</th>\n",
       "      <td>1.077032</td>\n",
       "      <td>1.004022</td>\n",
       "      <td>241.159349</td>\n",
       "      <td>573.427349</td>\n",
       "      <td>1.173949</td>\n",
       "    </tr>\n",
       "    <tr>\n",
       "      <th>min</th>\n",
       "      <td>1.000000</td>\n",
       "      <td>1.000000</td>\n",
       "      <td>1.000000</td>\n",
       "      <td>2.590000</td>\n",
       "      <td>1.000000</td>\n",
       "    </tr>\n",
       "    <tr>\n",
       "      <th>25%</th>\n",
       "      <td>3.000000</td>\n",
       "      <td>3.502500</td>\n",
       "      <td>2.000000</td>\n",
       "      <td>12.110000</td>\n",
       "      <td>2.440000</td>\n",
       "    </tr>\n",
       "    <tr>\n",
       "      <th>50%</th>\n",
       "      <td>3.670000</td>\n",
       "      <td>4.070000</td>\n",
       "      <td>7.000000</td>\n",
       "      <td>28.990000</td>\n",
       "      <td>3.134000</td>\n",
       "    </tr>\n",
       "    <tr>\n",
       "      <th>75%</th>\n",
       "      <td>4.250000</td>\n",
       "      <td>4.670000</td>\n",
       "      <td>39.000000</td>\n",
       "      <td>99.590000</td>\n",
       "      <td>4.000000</td>\n",
       "    </tr>\n",
       "    <tr>\n",
       "      <th>max</th>\n",
       "      <td>5.000000</td>\n",
       "      <td>5.000000</td>\n",
       "      <td>4647.000000</td>\n",
       "      <td>10362.190000</td>\n",
       "      <td>5.000000</td>\n",
       "    </tr>\n",
       "  </tbody>\n",
       "</table>\n",
       "</div>"
      ],
      "text/plain": [
       "         Effective    EaseOfUse      Reviews         Price  Satisfaction\n",
       "count  2438.000000  2438.000000  2438.000000   2432.000000   2438.000000\n",
       "mean      3.535610     3.934260    69.556604    136.090165      3.184218\n",
       "std       1.077032     1.004022   241.159349    573.427349      1.173949\n",
       "min       1.000000     1.000000     1.000000      2.590000      1.000000\n",
       "25%       3.000000     3.502500     2.000000     12.110000      2.440000\n",
       "50%       3.670000     4.070000     7.000000     28.990000      3.134000\n",
       "75%       4.250000     4.670000    39.000000     99.590000      4.000000\n",
       "max       5.000000     5.000000  4647.000000  10362.190000      5.000000"
      ]
     },
     "execution_count": 43,
     "metadata": {},
     "output_type": "execute_result"
    }
   ],
   "source": [
    "sub_df = final_drug[['Effective', 'EaseOfUse', 'Reviews', 'Price', 'Satisfaction']].copy()\n",
    "sub_df.describe()"
   ]
  },
  {
   "cell_type": "markdown",
   "id": "4f2cf9f8",
   "metadata": {},
   "source": [
    "<div class=\"alert alert-block alert-info\">\n",
    "In the 'Price' column we can see that the maximum value is ~10k dollars and 75% of the values are around 100 dollars. Let's plot the histogram of this column.\n",
    "</div>"
   ]
  },
  {
   "cell_type": "code",
   "execution_count": 44,
   "id": "e06349f2",
   "metadata": {},
   "outputs": [
    {
     "data": {
      "text/plain": [
       "<Axes: ylabel='Frequency'>"
      ]
     },
     "execution_count": 44,
     "metadata": {},
     "output_type": "execute_result"
    },
    {
     "data": {
      "image/png": "[encoded data removed]",
      "text/plain": [
       "<Figure size 640x480 with 1 Axes>"
      ]
     },
     "metadata": {},
     "output_type": "display_data"
    }
   ],
   "source": [
    "sub_df['Price'].plot.hist(bins=100)"
   ]
  },
  {
   "cell_type": "markdown",
   "id": "2381bff3",
   "metadata": {},
   "source": [
    "<div class=\"alert alert-block alert-info\">\n",
    "With the plot we can see that the majority of the values are between 0 and 500. There are few outliers above 500, we will drop them to avoid poor performance.\n",
    "</div>"
   ]
  },
  {
   "cell_type": "code",
   "execution_count": 45,
   "id": "14a63235",
   "metadata": {},
   "outputs": [
    {
     "data": {
      "text/html": [
       "<div>\n",
       "<style scoped>\n",
       "    .dataframe tbody tr th:only-of-type {\n",
       "        vertical-align: middle;\n",
       "    }\n",
       "\n",
       "    .dataframe tbody tr th {\n",
       "        vertical-align: top;\n",
       "    }\n",
       "\n",
       "    .dataframe thead th {\n",
       "        text-align: right;\n",
       "    }\n",
       "</style>\n",
       "<table border=\"1\" class=\"dataframe\">\n",
       "  <thead>\n",
       "    <tr style=\"text-align: right;\">\n",
       "      <th></th>\n",
       "      <th>Effective</th>\n",
       "      <th>EaseOfUse</th>\n",
       "      <th>Reviews</th>\n",
       "      <th>Price</th>\n",
       "      <th>Satisfaction</th>\n",
       "    </tr>\n",
       "  </thead>\n",
       "  <tbody>\n",
       "    <tr>\n",
       "      <th>count</th>\n",
       "      <td>2358.000000</td>\n",
       "      <td>2358.000000</td>\n",
       "      <td>2358.000000</td>\n",
       "      <td>2352.000000</td>\n",
       "      <td>2358.000000</td>\n",
       "    </tr>\n",
       "    <tr>\n",
       "      <th>mean</th>\n",
       "      <td>3.534862</td>\n",
       "      <td>3.943833</td>\n",
       "      <td>70.618321</td>\n",
       "      <td>68.398719</td>\n",
       "      <td>3.184949</td>\n",
       "    </tr>\n",
       "    <tr>\n",
       "      <th>std</th>\n",
       "      <td>1.073084</td>\n",
       "      <td>0.995792</td>\n",
       "      <td>244.576505</td>\n",
       "      <td>86.906316</td>\n",
       "      <td>1.172079</td>\n",
       "    </tr>\n",
       "    <tr>\n",
       "      <th>min</th>\n",
       "      <td>1.000000</td>\n",
       "      <td>1.000000</td>\n",
       "      <td>1.000000</td>\n",
       "      <td>2.590000</td>\n",
       "      <td>1.000000</td>\n",
       "    </tr>\n",
       "    <tr>\n",
       "      <th>25%</th>\n",
       "      <td>3.000000</td>\n",
       "      <td>3.550000</td>\n",
       "      <td>2.000000</td>\n",
       "      <td>11.990000</td>\n",
       "      <td>2.450000</td>\n",
       "    </tr>\n",
       "    <tr>\n",
       "      <th>50%</th>\n",
       "      <td>3.670000</td>\n",
       "      <td>4.070000</td>\n",
       "      <td>7.000000</td>\n",
       "      <td>26.990000</td>\n",
       "      <td>3.137000</td>\n",
       "    </tr>\n",
       "    <tr>\n",
       "      <th>75%</th>\n",
       "      <td>4.250000</td>\n",
       "      <td>4.670000</td>\n",
       "      <td>39.750000</td>\n",
       "      <td>86.990000</td>\n",
       "      <td>4.000000</td>\n",
       "    </tr>\n",
       "    <tr>\n",
       "      <th>max</th>\n",
       "      <td>5.000000</td>\n",
       "      <td>5.000000</td>\n",
       "      <td>4647.000000</td>\n",
       "      <td>477.990000</td>\n",
       "      <td>5.000000</td>\n",
       "    </tr>\n",
       "  </tbody>\n",
       "</table>\n",
       "</div>"
      ],
      "text/plain": [
       "         Effective    EaseOfUse      Reviews        Price  Satisfaction\n",
       "count  2358.000000  2358.000000  2358.000000  2352.000000   2358.000000\n",
       "mean      3.534862     3.943833    70.618321    68.398719      3.184949\n",
       "std       1.073084     0.995792   244.576505    86.906316      1.172079\n",
       "min       1.000000     1.000000     1.000000     2.590000      1.000000\n",
       "25%       3.000000     3.550000     2.000000    11.990000      2.450000\n",
       "50%       3.670000     4.070000     7.000000    26.990000      3.137000\n",
       "75%       4.250000     4.670000    39.750000    86.990000      4.000000\n",
       "max       5.000000     5.000000  4647.000000   477.990000      5.000000"
      ]
     },
     "execution_count": 45,
     "metadata": {},
     "output_type": "execute_result"
    }
   ],
   "source": [
    "sub_df = sub_df.drop(sub_df[sub_df['Price']>500].index)\n",
    "sub_df.describe()"
   ]
  },
  {
   "cell_type": "code",
   "execution_count": 46,
   "id": "65e54581",
   "metadata": {},
   "outputs": [
    {
     "name": "stdout",
     "output_type": "stream",
     "text": [
      "<class 'pandas.core.frame.DataFrame'>\n",
      "Int64Index: 2358 entries, 0 to 2437\n",
      "Data columns (total 5 columns):\n",
      " #   Column        Non-Null Count  Dtype  \n",
      "---  ------        --------------  -----  \n",
      " 0   Effective     2358 non-null   float64\n",
      " 1   EaseOfUse     2358 non-null   float64\n",
      " 2   Reviews       2358 non-null   int64  \n",
      " 3   Price         2352 non-null   float64\n",
      " 4   Satisfaction  2358 non-null   float64\n",
      "dtypes: float64(4), int64(1)\n",
      "memory usage: 110.5 KB\n",
      "None\n"
     ]
    }
   ],
   "source": [
    "print(sub_df.info())"
   ]
  },
  {
   "cell_type": "markdown",
   "id": "4fc8fc7e",
   "metadata": {},
   "source": [
    "<div class=\"alert alert-block alert-info\">\n",
    "Let's drop the rows with NaN values.\n",
    "</div>"
   ]
  },
  {
   "cell_type": "code",
   "execution_count": 47,
   "id": "902e5494",
   "metadata": {},
   "outputs": [
    {
     "name": "stdout",
     "output_type": "stream",
     "text": [
      "<class 'pandas.core.frame.DataFrame'>\n",
      "Int64Index: 2352 entries, 0 to 2437\n",
      "Data columns (total 5 columns):\n",
      " #   Column        Non-Null Count  Dtype  \n",
      "---  ------        --------------  -----  \n",
      " 0   Effective     2352 non-null   float64\n",
      " 1   EaseOfUse     2352 non-null   float64\n",
      " 2   Reviews       2352 non-null   int64  \n",
      " 3   Price         2352 non-null   float64\n",
      " 4   Satisfaction  2352 non-null   float64\n",
      "dtypes: float64(4), int64(1)\n",
      "memory usage: 110.2 KB\n"
     ]
    }
   ],
   "source": [
    "sub_df = sub_df.dropna(axis=0)\n",
    "sub_df.info()"
   ]
  },
  {
   "cell_type": "markdown",
   "id": "a1ff44ce",
   "metadata": {},
   "source": [
    "<div class=\"alert alert-block alert-info\">\n",
    "Now that we have cleaned the columns needed for our training, we can define the model's inputs (called the features) and output (called the target).\n",
    "</div>"
   ]
  },
  {
   "cell_type": "code",
   "execution_count": 48,
   "id": "e4c9bcaf",
   "metadata": {},
   "outputs": [],
   "source": [
    "features = sub_df[['Effective', 'EaseOfUse', 'Reviews', 'Price']]\n",
    "target = sub_df['Satisfaction']"
   ]
  },
  {
   "cell_type": "markdown",
   "id": "f5b6d607",
   "metadata": {},
   "source": [
    "<div class=\"alert alert-block alert-info\">\n",
    "Let's split our data into train dataset and test dataset. We keep 80% of the data for training and the 20% remaining for the test.\n",
    "</div>"
   ]
  },
  {
   "cell_type": "code",
   "execution_count": 49,
   "id": "9e8bbd16",
   "metadata": {},
   "outputs": [
    {
     "name": "stdout",
     "output_type": "stream",
     "text": [
      "Shape of train features : (1881, 4) and train labels : (1881,)\n",
      "Shape of test features : (471, 4) and test labels : (471,)\n"
     ]
    }
   ],
   "source": [
    "from sklearn.model_selection import train_test_split\n",
    "\n",
    "X_train, X_test, y_train, y_test = train_test_split(features, target, test_size=0.2, random_state=42)\n",
    "print(f\"Shape of train features : {X_train.shape} and train labels : {y_train.shape}\")\n",
    "print(f\"Shape of test features : {X_test.shape} and test labels : {y_test.shape}\")"
   ]
  },
  {
   "cell_type": "markdown",
   "id": "5da70dfa",
   "metadata": {},
   "source": [
    "<div class=\"alert alert-block alert-info\">\n",
    "To avoid any biais in the training we will normalize the data.\n",
    "</div>"
   ]
  },
  {
   "cell_type": "code",
   "execution_count": 50,
   "id": "3970ce0a",
   "metadata": {},
   "outputs": [
    {
     "name": "stdout",
     "output_type": "stream",
     "text": [
      "Before normalization (mean of train dataset):\n",
      "Effective     3.535467\n",
      "EaseOfUse     3.946488\n",
      "Reviews      70.190324\n",
      "Price        69.837811\n",
      "dtype: float64\n",
      "After normalization (mean of train dataset):\n",
      "[0.63386681 0.73662202 0.01489245 0.14145522]\n",
      "------------------------------------\n",
      "Before normalization (mean of test dataset):\n",
      "Effective     3.531447\n",
      "EaseOfUse     3.935465\n",
      "Reviews      73.118896\n",
      "Price        62.651517\n",
      "dtype: float64\n",
      "After normalization (mean of test dataset):\n",
      "[0.63286165 0.73386613 0.01552279 0.12633891]\n"
     ]
    }
   ],
   "source": [
    "from sklearn.preprocessing import MinMaxScaler\n",
    "\n",
    "scaler_X = MinMaxScaler()\n",
    "scaler_y = MinMaxScaler()\n",
    "\n",
    "print(\"Before normalization (mean of train dataset):\")\n",
    "print(np.mean(X_train, axis=0))\n",
    "scaler_X.fit(X_train)\n",
    "scaler_y.fit(np.array(y_train).reshape(-1, 1))\n",
    "X_train = scaler_X.transform(X_train)\n",
    "y_train = scaler_y.transform(np.array(y_train).reshape(-1, 1))\n",
    "print(\"After normalization (mean of train dataset):\")\n",
    "print(np.mean(X_train, axis=0))\n",
    "\n",
    "print(\"------------------------------------\")\n",
    "print(\"Before normalization (mean of test dataset):\")\n",
    "print(np.mean(X_test, axis=0))\n",
    "X_test = scaler_X.transform(X_test)\n",
    "y_test = scaler_y.transform(np.array(y_test).reshape(-1, 1))\n",
    "print(\"After normalization (mean of test dataset):\")\n",
    "print(np.mean(X_test, axis=0))"
   ]
  },
  {
   "cell_type": "markdown",
   "id": "b3d02bda",
   "metadata": {},
   "source": [
    "<div class=\"alert alert-block alert-info\">\n",
    "Before creating a \"sophisticated\" model we will just imagine that we have a simple one which predict the mean of the target datatest. Let's calculate it and then calculate the RMSE betwen the mean and the target.\n",
    "</div>"
   ]
  },
  {
   "cell_type": "code",
   "execution_count": 51,
   "id": "0fd44cb3",
   "metadata": {},
   "outputs": [
    {
     "name": "stdout",
     "output_type": "stream",
     "text": [
      "----------Baseline model----------\n",
      "RMSE between the y_test and its mean is : 0.30\n"
     ]
    }
   ],
   "source": [
    "from sklearn.metrics import mean_squared_error\n",
    "\n",
    "metrics = {}\n",
    "y_mean = np.repeat(np.mean(y_test), y_test.shape[0])\n",
    "mse_baseline = mean_squared_error(y_test, y_mean)\n",
    "rmse_baseline = np.sqrt(mse_baseline)\n",
    "metrics['baseline'] = rmse_baseline\n",
    "print(\"----------Baseline model----------\")\n",
    "print(\"RMSE between the y_test and its mean is : {:.2f}\".format(rmse_baseline))"
   ]
  },
  {
   "cell_type": "markdown",
   "id": "350967b0",
   "metadata": {},
   "source": [
    "<div class=\"alert alert-block alert-info\">\n",
    "With our baseline model, the RMSE is 0.30. Let's remind that RMSE=0 is equal to a perfect adjustment of the data (predicted values = target values).\n",
    "Here we treat a regression problem : the satisfaction can be explained by other variables. The most common model in regression is the linear regression. Let's try it.\n",
    "</div>"
   ]
  },
  {
   "cell_type": "code",
   "execution_count": 52,
   "id": "33f3cb5f",
   "metadata": {},
   "outputs": [
    {
     "name": "stdout",
     "output_type": "stream",
     "text": [
      "----------Linear Regression----------\n",
      "RMSE: 0.17\n",
      "R^2 Score: 0.66\n"
     ]
    }
   ],
   "source": [
    "from sklearn.linear_model import LinearRegression\n",
    "\n",
    "model = LinearRegression()\n",
    "model.fit(X_train, y_train)\n",
    "\n",
    "y_pred = model.predict(X_test)\n",
    "\n",
    "mse = mean_squared_error(y_test, y_pred)\n",
    "rmse = np.sqrt(mse)\n",
    "metrics['LinearRegression'] = rmse\n",
    "r2 = model.score(X_test, y_test)\n",
    "\n",
    "print(\"----------Linear Regression----------\")\n",
    "print(\"RMSE: {:.2f}\".format(rmse))\n",
    "print(\"R^2 Score: {:.2f}\".format(r2))"
   ]
  },
  {
   "cell_type": "markdown",
   "id": "db5fae1c",
   "metadata": {},
   "source": [
    "<div class=\"alert alert-block alert-info\">\n",
    "With the linear regression we get a RMSE of 0.17, almost half of the previous model. The R² score is 0.66 (the best value is 1) which means that the model is doing well. Let's try another commom model in regression : the decision tree model, to see if it performs better with our data.\n",
    "</div>"
   ]
  },
  {
   "cell_type": "code",
   "execution_count": 53,
   "id": "3480e4ef",
   "metadata": {},
   "outputs": [
    {
     "name": "stdout",
     "output_type": "stream",
     "text": [
      "----------Decision Tree Regressor----------\n",
      "RMSE: 0.20\n"
     ]
    }
   ],
   "source": [
    "from sklearn.tree import DecisionTreeRegressor\n",
    "\n",
    "clf = DecisionTreeRegressor()\n",
    "clf.fit(X_train, y_train)\n",
    "y_predicted = clf.predict(X_test)\n",
    "# print([(y_predicted[i], y_test.iloc[i]) for i in range(len(y_test))])\n",
    "mse = mean_squared_error(y_test, y_predicted)\n",
    "rmse = np.sqrt(mse)\n",
    "metrics[\"DecisionTreeRegressor\"] = rmse\n",
    "\n",
    "print(\"----------Decision Tree Regressor----------\")\n",
    "print(\"RMSE: {:.2f}\".format(rmse))"
   ]
  },
  {
   "cell_type": "markdown",
   "id": "3911705d",
   "metadata": {},
   "source": [
    "<div class=\"alert alert-block alert-info\">\n",
    "Our decision tree gets a RMSE of 0.19, which is not better than the previous model (linear regression). There is a parameter that we can adjust easily : the depth of the model. Previously we did not fix it, by default nodes are expanded until all leaves are pure or until all leaves contain less than 2 samples, which can increase the memory consumption. Sklearn proposes a very usefull tool : GridSearchCV. It provides exhaustive search over specified parameter values for an estimator, here the depth of our decision tree. We will search the best depth between 2 and 10.\n",
    "</div>"
   ]
  },
  {
   "cell_type": "code",
   "execution_count": 56,
   "id": "3b1a51c6",
   "metadata": {},
   "outputs": [
    {
     "name": "stdout",
     "output_type": "stream",
     "text": [
      "----------Decision Tree Regressor {'max_depth': 4}----------\n",
      "RMSE: 0.17\n",
      "{'max_depth': 4}\n"
     ]
    }
   ],
   "source": [
    "from sklearn.model_selection import GridSearchCV\n",
    "\n",
    "pgrid = {\"max_depth\": [2, 3, 4, 5, 6, 7, 8, 9, 10]}\n",
    "grid_search = GridSearchCV(DecisionTreeRegressor(), param_grid=pgrid, scoring='neg_mean_squared_error', cv=10)\n",
    "grid_search.fit(X_train, y_train)\n",
    "y_predicted = grid_search.best_estimator_.predict(X_test)\n",
    "mse = mean_squared_error(y_test, y_predicted)\n",
    "rmse = np.sqrt(mse)\n",
    "metrics[f'DecisionTreeRegressor{grid_search.best_params_}'] = rmse\n",
    "\n",
    "\n",
    "print(f\"----------Decision Tree Regressor {grid_search.best_params_}----------\")\n",
    "print(\"RMSE: {:.2f}\".format(rmse))\n",
    "print(grid_search.best_params_)"
   ]
  },
  {
   "cell_type": "markdown",
   "id": "5398b643",
   "metadata": {},
   "source": [
    "<div class=\"alert alert-block alert-info\">\n",
    "Thanks to the GridSearchCV the RMSE is now at 0.17 with a decision tree depth of 4. Let's see how evolve the RMSE through the different model used.\n",
    "</div>"
   ]
  },
  {
   "cell_type": "code",
   "execution_count": 63,
   "id": "e8fa3f3b",
   "metadata": {
    "scrolled": true
   },
   "outputs": [
    {
     "ename": "NameError",
     "evalue": "name 'px' is not defined",
     "output_type": "error",
     "traceback": [
      "\u001b[1;31m---------------------------------------------------------------------------\u001b[0m",
      "\u001b[1;31mNameError\u001b[0m                                 Traceback (most recent call last)",
      "Cell \u001b[1;32mIn[63], line 1\u001b[0m\n\u001b[1;32m----> 1\u001b[0m fig \u001b[38;5;241m=\u001b[39m \u001b[43mpx\u001b[49m\u001b[38;5;241m.\u001b[39mline(metrics\u001b[38;5;241m.\u001b[39mvalues(), x\u001b[38;5;241m=\u001b[39mmetrics\u001b[38;5;241m.\u001b[39mkeys(), y\u001b[38;5;241m=\u001b[39mmetrics\u001b[38;5;241m.\u001b[39mvalues(), title\u001b[38;5;241m=\u001b[39m\u001b[38;5;124m'\u001b[39m\u001b[38;5;124mRMSE of different models\u001b[39m\u001b[38;5;124m'\u001b[39m, markers\u001b[38;5;241m=\u001b[39m\u001b[38;5;28;01mTrue\u001b[39;00m)\n\u001b[0;32m      2\u001b[0m fig\u001b[38;5;241m.\u001b[39mshow()\n",
      "\u001b[1;31mNameError\u001b[0m: name 'px' is not defined"
     ]
    }
   ],
   "source": [
    "fig = px.line(metrics.values(), x=metrics.keys(), y=metrics.values(), title='RMSE of different models', markers=True)\n",
    "fig.show()"
   ]
  },
  {
   "cell_type": "markdown",
   "id": "84ba32b8",
   "metadata": {},
   "source": [
    "<div class=\"alert alert-block alert-info\">\n",
    "We can see that the use of a machine learning model help to reduce the RMSE. We can conclude that the linear regression model from sklearn is the best with RMSE=0.17.\n",
    "</div>"
   ]
  },
  {
   "cell_type": "code",
   "execution_count": 61,
   "id": "d501a3eb",
   "metadata": {},
   "outputs": [],
   "source": [
    "condition = 'vertigo'\n",
    "criteria = 'Satisfaction'\n",
    "\n",
    "from bokeh.models import ColumnDataSource\n",
    "from bokeh.plotting import figure, show\n",
    "from bokeh.transform import jitter\n",
    "from bokeh.palettes import Turbo256\n",
    "from bokeh.transform import factor_cmap\n",
    "\n",
    "\n",
    "# create sub dataframe with only 'Satisfaction' column and the drug associated with the Condition asked\n",
    "sub_df = final_drug.loc[final_drug['Condition']==condition, [criteria, 'Drug']].set_index('Drug')\n",
    "# print(sub_df.head())\n",
    "\n",
    "# drugs list\n",
    "drugs = sub_df.index.unique().tolist()\n",
    "\n",
    "source = ColumnDataSource(data=sub_df)\n",
    "\n",
    "p = figure(y_range=drugs, height=600, width=900, title=f\"Satisfaction level of drug (condition: {condition})\", toolbar_location='below')\n",
    "\n",
    "k = math.floor(len(Turbo256)/len(drugs))\n",
    "palette = [Turbo256[i*k] for i in range(len(drugs))]\n",
    "\n",
    "index_cmap = factor_cmap('Drug', palette=palette, \n",
    "                         factors=sorted(drugs))\n",
    "p.hex(x=criteria, y=jitter('Drug', width=0.8, range=p.y_range), source=source, alpha=0.7, size=7,\n",
    "     fill_color=index_cmap, line_color=None)\n",
    "\n",
    "p.x_range.range_padding = 0\n",
    "p.ygrid.grid_line_color = \"#efefef\"\n",
    "p.xaxis.axis_label = criteria\n",
    "p.yaxis.axis_label = 'Drug'\n",
    "\n",
    "show(p)"
   ]
  },
  {
   "cell_type": "markdown",
   "id": "22930d0f",
   "metadata": {},
   "source": [
    "# 🕹️Interactive diagram"
   ]
  },
  {
   "cell_type": "markdown",
   "id": "1b8244b3",
   "metadata": {},
   "source": [
    "<div class=\"alert alert-block alert-info\">\n",
    "We create an interactive diagram to measure the satisfaction level of drugs depending on the condition chosen. Run the following cell to deploy the local app.\n",
    "</div>"
   ]
  },
  {
   "cell_type": "code",
   "execution_count": 62,
   "id": "88f28126",
   "metadata": {},
   "outputs": [
    {
     "name": "stderr",
     "output_type": "stream",
     "text": [
      "Traceback (most recent call last):\n",
      "  File \"C:\\Users\\Kevin\\anaconda3\\Scripts\\streamlit-script.py\", line 6, in <module>\n",
      "    from streamlit.cli import main\n",
      "  File \"C:\\Users\\Kevin\\anaconda3\\lib\\site-packages\\streamlit\\__init__.py\", line 55, in <module>\n",
      "    from streamlit.delta_generator import DeltaGenerator as _DeltaGenerator\n",
      "  File \"C:\\Users\\Kevin\\anaconda3\\lib\\site-packages\\streamlit\\delta_generator.py\", line 38, in <module>\n",
      "    from streamlit import config, cursor, env_util, logger, runtime, type_util, util\n",
      "  File \"C:\\Users\\Kevin\\anaconda3\\lib\\site-packages\\streamlit\\cursor.py\", line 18, in <module>\n",
      "    from streamlit.runtime.scriptrunner import get_script_run_ctx\n",
      "  File \"C:\\Users\\Kevin\\anaconda3\\lib\\site-packages\\streamlit\\runtime\\__init__.py\", line 16, in <module>\n",
      "    from streamlit.runtime.runtime import Runtime as Runtime\n",
      "  File \"C:\\Users\\Kevin\\anaconda3\\lib\\site-packages\\streamlit\\runtime\\runtime.py\", line 28, in <module>\n",
      "    from streamlit.runtime.app_session import AppSession\n",
      "  File \"C:\\Users\\Kevin\\anaconda3\\lib\\site-packages\\streamlit\\runtime\\app_session.py\", line 35, in <module>\n",
      "    from streamlit.runtime import caching, legacy_caching\n",
      "  File \"C:\\Users\\Kevin\\anaconda3\\lib\\site-packages\\streamlit\\runtime\\caching\\__init__.py\", line 21, in <module>\n",
      "    from streamlit.runtime.state.session_state import WidgetMetadata\n",
      "  File \"C:\\Users\\Kevin\\anaconda3\\lib\\site-packages\\streamlit\\runtime\\state\\__init__.py\", line 16, in <module>\n",
      "    from streamlit.runtime.state.safe_session_state import (\n",
      "  File \"C:\\Users\\Kevin\\anaconda3\\lib\\site-packages\\streamlit\\runtime\\state\\safe_session_state.py\", line 20, in <module>\n",
      "    from streamlit.runtime.state.session_state import (\n",
      "  File \"C:\\Users\\Kevin\\anaconda3\\lib\\site-packages\\streamlit\\runtime\\state\\session_state.py\", line 44, in <module>\n",
      "    from streamlit.type_util import ValueFieldName, is_array_value_field_name\n",
      "  File \"C:\\Users\\Kevin\\anaconda3\\lib\\site-packages\\streamlit\\type_util.py\", line 35, in <module>\n",
      "    import pyarrow as pa\n",
      "  File \"C:\\Users\\Kevin\\anaconda3\\lib\\site-packages\\pyarrow\\__init__.py\", line 65, in <module>\n",
      "    import pyarrow.lib as _lib\n",
      "ImportError: DLL load failed while importing lib: La procédure spécifiée est introuvable.\n"
     ]
    }
   ],
   "source": [
    "! streamlit run main.py"
   ]
  },
  {
   "cell_type": "code",
   "execution_count": null,
   "id": "84bcb425",
   "metadata": {},
   "outputs": [],
   "source": []
  }
 ],
 "metadata": {
  "kernelspec": {
   "display_name": "Python 3 (ipykernel)",
   "language": "python",
   "name": "python3"
  },
  "language_info": {
   "codemirror_mode": {
    "name": "ipython",
    "version": 3
   },
   "file_extension": ".py",
   "mimetype": "text/x-python",
   "name": "python",
   "nbconvert_exporter": "python",
   "pygments_lexer": "ipython3",
   "version": "3.9.13"
  }
 },
 "nbformat": 4,
 "nbformat_minor": 5
}
